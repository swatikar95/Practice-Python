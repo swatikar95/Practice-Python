{
 "cells": [
  {
   "cell_type": "code",
   "execution_count": 0,
   "metadata": {
    "colab": {
     "base_uri": "https://localhost:8080/",
     "height": 34
    },
    "colab_type": "code",
    "executionInfo": {
     "elapsed": 2348,
     "status": "ok",
     "timestamp": 1589993355103,
     "user": {
      "displayName": "Swati Kar",
      "photoUrl": "https://lh3.googleusercontent.com/a-/AOh14GipCjJ_Toz36oaKm2fXTpDzjwm9bTCh4YjPeFLQ=s64",
      "userId": "09310606185569209733"
     },
     "user_tz": -360
    },
    "id": "rwjp5iJPH1Y9",
    "outputId": "7739ad2c-42d8-4bd6-d7e4-bf29f11a4397"
   },
   "outputs": [
    {
     "data": {
      "text/plain": [
       "3"
      ]
     },
     "execution_count": 113,
     "metadata": {
      "tags": []
     },
     "output_type": "execute_result"
    }
   ],
   "source": [
    "#mod\n",
    "7/4\n",
    "7%4"
   ]
  },
  {
   "cell_type": "code",
   "execution_count": 0,
   "metadata": {
    "colab": {
     "base_uri": "https://localhost:8080/",
     "height": 34
    },
    "colab_type": "code",
    "executionInfo": {
     "elapsed": 4059,
     "status": "ok",
     "timestamp": 1589993356858,
     "user": {
      "displayName": "Swati Kar",
      "photoUrl": "https://lh3.googleusercontent.com/a-/AOh14GipCjJ_Toz36oaKm2fXTpDzjwm9bTCh4YjPeFLQ=s64",
      "userId": "09310606185569209733"
     },
     "user_tz": -360
    },
    "id": "II81RIsWIYRX",
    "outputId": "2a39bb35-f10d-4abe-8096-ac9a1b5ced5b"
   },
   "outputs": [
    {
     "data": {
      "text/plain": [
       "0"
      ]
     },
     "execution_count": 114,
     "metadata": {
      "tags": []
     },
     "output_type": "execute_result"
    }
   ],
   "source": [
    "50%5"
   ]
  },
  {
   "cell_type": "code",
   "execution_count": 0,
   "metadata": {
    "colab": {
     "base_uri": "https://localhost:8080/",
     "height": 34
    },
    "colab_type": "code",
    "executionInfo": {
     "elapsed": 4022,
     "status": "ok",
     "timestamp": 1589993356863,
     "user": {
      "displayName": "Swati Kar",
      "photoUrl": "https://lh3.googleusercontent.com/a-/AOh14GipCjJ_Toz36oaKm2fXTpDzjwm9bTCh4YjPeFLQ=s64",
      "userId": "09310606185569209733"
     },
     "user_tz": -360
    },
    "id": "PLmCnM78IeGi",
    "outputId": "004115d4-8d99-460a-83c5-8e37d297d70b"
   },
   "outputs": [
    {
     "data": {
      "text/plain": [
       "8"
      ]
     },
     "execution_count": 115,
     "metadata": {
      "tags": []
     },
     "output_type": "execute_result"
    }
   ],
   "source": [
    "#power\n",
    "2 ** 3"
   ]
  },
  {
   "cell_type": "code",
   "execution_count": 0,
   "metadata": {
    "colab": {},
    "colab_type": "code",
    "id": "Ay_hK1t_Kbb3"
   },
   "outputs": [],
   "source": [
    "#type\n",
    "a=10\n"
   ]
  },
  {
   "cell_type": "code",
   "execution_count": 0,
   "metadata": {
    "colab": {
     "base_uri": "https://localhost:8080/",
     "height": 34
    },
    "colab_type": "code",
    "executionInfo": {
     "elapsed": 3967,
     "status": "ok",
     "timestamp": 1589993356873,
     "user": {
      "displayName": "Swati Kar",
      "photoUrl": "https://lh3.googleusercontent.com/a-/AOh14GipCjJ_Toz36oaKm2fXTpDzjwm9bTCh4YjPeFLQ=s64",
      "userId": "09310606185569209733"
     },
     "user_tz": -360
    },
    "id": "v0kxuIvlKsT4",
    "outputId": "8c78d848-bece-4883-aa05-e03ffb448f3c"
   },
   "outputs": [
    {
     "data": {
      "text/plain": [
       "20"
      ]
     },
     "execution_count": 117,
     "metadata": {
      "tags": []
     },
     "output_type": "execute_result"
    }
   ],
   "source": [
    "a=a+a\n",
    "a"
   ]
  },
  {
   "cell_type": "code",
   "execution_count": 0,
   "metadata": {
    "colab": {
     "base_uri": "https://localhost:8080/",
     "height": 34
    },
    "colab_type": "code",
    "executionInfo": {
     "elapsed": 3927,
     "status": "ok",
     "timestamp": 1589993356877,
     "user": {
      "displayName": "Swati Kar",
      "photoUrl": "https://lh3.googleusercontent.com/a-/AOh14GipCjJ_Toz36oaKm2fXTpDzjwm9bTCh4YjPeFLQ=s64",
      "userId": "09310606185569209733"
     },
     "user_tz": -360
    },
    "id": "HXO_7MwVKwv6",
    "outputId": "b651a51e-f05e-47f2-a847-41dd9244caa8"
   },
   "outputs": [
    {
     "data": {
      "text/plain": [
       "int"
      ]
     },
     "execution_count": 118,
     "metadata": {
      "tags": []
     },
     "output_type": "execute_result"
    }
   ],
   "source": [
    "type(a)"
   ]
  },
  {
   "cell_type": "code",
   "execution_count": 0,
   "metadata": {
    "colab": {
     "base_uri": "https://localhost:8080/",
     "height": 34
    },
    "colab_type": "code",
    "executionInfo": {
     "elapsed": 3895,
     "status": "ok",
     "timestamp": 1589993356879,
     "user": {
      "displayName": "Swati Kar",
      "photoUrl": "https://lh3.googleusercontent.com/a-/AOh14GipCjJ_Toz36oaKm2fXTpDzjwm9bTCh4YjPeFLQ=s64",
      "userId": "09310606185569209733"
     },
     "user_tz": -360
    },
    "id": "VU_gngxHLYRu",
    "outputId": "b73444bf-7d30-49e2-9dfa-75ef1c6e63da"
   },
   "outputs": [
    {
     "data": {
      "text/plain": [
       "10.0"
      ]
     },
     "execution_count": 119,
     "metadata": {
      "tags": []
     },
     "output_type": "execute_result"
    }
   ],
   "source": [
    "my_income = 100\n",
    "tax_rate = 0.1\n",
    "\n",
    "my_taxes = my_income*tax_rate\n",
    "my_taxes"
   ]
  },
  {
   "cell_type": "code",
   "execution_count": 0,
   "metadata": {
    "colab": {
     "base_uri": "https://localhost:8080/",
     "height": 34
    },
    "colab_type": "code",
    "executionInfo": {
     "elapsed": 3862,
     "status": "ok",
     "timestamp": 1589993356882,
     "user": {
      "displayName": "Swati Kar",
      "photoUrl": "https://lh3.googleusercontent.com/a-/AOh14GipCjJ_Toz36oaKm2fXTpDzjwm9bTCh4YjPeFLQ=s64",
      "userId": "09310606185569209733"
     },
     "user_tz": -360
    },
    "id": "1lflPk_cL8Xk",
    "outputId": "6781f74d-4907-40a7-f775-1695b2e35ed3"
   },
   "outputs": [
    {
     "data": {
      "text/plain": [
       "'hello'"
      ]
     },
     "execution_count": 120,
     "metadata": {
      "tags": []
     },
     "output_type": "execute_result"
    }
   ],
   "source": [
    "#string\n",
    "'hello'"
   ]
  },
  {
   "cell_type": "code",
   "execution_count": 0,
   "metadata": {
    "colab": {
     "base_uri": "https://localhost:8080/",
     "height": 34
    },
    "colab_type": "code",
    "executionInfo": {
     "elapsed": 3821,
     "status": "ok",
     "timestamp": 1589993356885,
     "user": {
      "displayName": "Swati Kar",
      "photoUrl": "https://lh3.googleusercontent.com/a-/AOh14GipCjJ_Toz36oaKm2fXTpDzjwm9bTCh4YjPeFLQ=s64",
      "userId": "09310606185569209733"
     },
     "user_tz": -360
    },
    "id": "c_wz65rGMzGQ",
    "outputId": "f820528d-94cb-42a7-9469-cfbb6eaaeb7a"
   },
   "outputs": [
    {
     "data": {
      "text/plain": [
       "'world'"
      ]
     },
     "execution_count": 121,
     "metadata": {
      "tags": []
     },
     "output_type": "execute_result"
    }
   ],
   "source": [
    "\"world\""
   ]
  },
  {
   "cell_type": "code",
   "execution_count": 0,
   "metadata": {
    "colab": {
     "base_uri": "https://localhost:8080/",
     "height": 132
    },
    "colab_type": "code",
    "executionInfo": {
     "elapsed": 3790,
     "status": "error",
     "timestamp": 1589993356889,
     "user": {
      "displayName": "Swati Kar",
      "photoUrl": "https://lh3.googleusercontent.com/a-/AOh14GipCjJ_Toz36oaKm2fXTpDzjwm9bTCh4YjPeFLQ=s64",
      "userId": "09310606185569209733"
     },
     "user_tz": -360
    },
    "id": "6izSSctKM29d",
    "outputId": "1f96d21a-a173-4de2-ee71-9f412b804258"
   },
   "outputs": [
    {
     "ename": "SyntaxError",
     "evalue": "ignored",
     "output_type": "error",
     "traceback": [
      "\u001b[0;36m  File \u001b[0;32m\"<ipython-input-122-f6e018d672c5>\"\u001b[0;36m, line \u001b[0;32m1\u001b[0m\n\u001b[0;31m    'i'm going on a run'\u001b[0m\n\u001b[0m       ^\u001b[0m\n\u001b[0;31mSyntaxError\u001b[0m\u001b[0;31m:\u001b[0m invalid syntax\n"
     ]
    }
   ],
   "source": [
    "#if sentence contains single cotation, then double cotation should be used for string\n",
    "'i'm going on a run'"
   ]
  },
  {
   "cell_type": "code",
   "execution_count": 0,
   "metadata": {
    "colab": {
     "base_uri": "https://localhost:8080/",
     "height": 34
    },
    "colab_type": "code",
    "executionInfo": {
     "elapsed": 3762,
     "status": "ok",
     "timestamp": 1589993356894,
     "user": {
      "displayName": "Swati Kar",
      "photoUrl": "https://lh3.googleusercontent.com/a-/AOh14GipCjJ_Toz36oaKm2fXTpDzjwm9bTCh4YjPeFLQ=s64",
      "userId": "09310606185569209733"
     },
     "user_tz": -360
    },
    "id": "8Fcb6JLvM-3F",
    "outputId": "37e70a34-cbeb-4225-af64-10bfbc6f7a4d"
   },
   "outputs": [
    {
     "data": {
      "text/plain": [
       "\"i'm going on a run\""
      ]
     },
     "execution_count": 123,
     "metadata": {
      "tags": []
     },
     "output_type": "execute_result"
    }
   ],
   "source": [
    "\"i'm going on a run\""
   ]
  },
  {
   "cell_type": "code",
   "execution_count": 0,
   "metadata": {
    "colab": {
     "base_uri": "https://localhost:8080/",
     "height": 34
    },
    "colab_type": "code",
    "executionInfo": {
     "elapsed": 3733,
     "status": "ok",
     "timestamp": 1589993356897,
     "user": {
      "displayName": "Swati Kar",
      "photoUrl": "https://lh3.googleusercontent.com/a-/AOh14GipCjJ_Toz36oaKm2fXTpDzjwm9bTCh4YjPeFLQ=s64",
      "userId": "09310606185569209733"
     },
     "user_tz": -360
    },
    "id": "2lxOaHyQNntQ",
    "outputId": "2f92be1f-9098-4045-9dbb-b43b532843f5"
   },
   "outputs": [
    {
     "data": {
      "text/plain": [
       "11"
      ]
     },
     "execution_count": 124,
     "metadata": {
      "tags": []
     },
     "output_type": "execute_result"
    }
   ],
   "source": [
    "len('i am hungry')"
   ]
  },
  {
   "cell_type": "code",
   "execution_count": 1,
   "metadata": {
    "colab": {},
    "colab_type": "code",
    "id": "RR0BcZRoNxsF"
   },
   "outputs": [],
   "source": [
    "#indexing and slicing\n",
    "mystring = 'hello world'"
   ]
  },
  {
   "cell_type": "code",
   "execution_count": 2,
   "metadata": {
    "colab": {
     "base_uri": "https://localhost:8080/",
     "height": 34
    },
    "colab_type": "code",
    "executionInfo": {
     "elapsed": 3697,
     "status": "ok",
     "timestamp": 1589993356902,
     "user": {
      "displayName": "Swati Kar",
      "photoUrl": "https://lh3.googleusercontent.com/a-/AOh14GipCjJ_Toz36oaKm2fXTpDzjwm9bTCh4YjPeFLQ=s64",
      "userId": "09310606185569209733"
     },
     "user_tz": -360
    },
    "id": "w7iDY-GzN68T",
    "outputId": "6c535087-2373-40a6-83a9-74bee653ed72"
   },
   "outputs": [
    {
     "data": {
      "text/plain": [
       "'h'"
      ]
     },
     "execution_count": 2,
     "metadata": {},
     "output_type": "execute_result"
    }
   ],
   "source": [
    "mystring[0]"
   ]
  },
  {
   "cell_type": "code",
   "execution_count": 0,
   "metadata": {
    "colab": {
     "base_uri": "https://localhost:8080/",
     "height": 34
    },
    "colab_type": "code",
    "executionInfo": {
     "elapsed": 3610,
     "status": "ok",
     "timestamp": 1589993356905,
     "user": {
      "displayName": "Swati Kar",
      "photoUrl": "https://lh3.googleusercontent.com/a-/AOh14GipCjJ_Toz36oaKm2fXTpDzjwm9bTCh4YjPeFLQ=s64",
      "userId": "09310606185569209733"
     },
     "user_tz": -360
    },
    "id": "4fzS18hCONz0",
    "outputId": "a946573b-ae9d-43bb-9657-aff37a25043a"
   },
   "outputs": [
    {
     "data": {
      "text/plain": [
       "'h'"
      ]
     },
     "execution_count": 127,
     "metadata": {
      "tags": []
     },
     "output_type": "execute_result"
    }
   ],
   "source": [
    "mystring[-11]"
   ]
  },
  {
   "cell_type": "code",
   "execution_count": 3,
   "metadata": {
    "colab": {
     "base_uri": "https://localhost:8080/",
     "height": 34
    },
    "colab_type": "code",
    "executionInfo": {
     "elapsed": 3569,
     "status": "ok",
     "timestamp": 1589993356907,
     "user": {
      "displayName": "Swati Kar",
      "photoUrl": "https://lh3.googleusercontent.com/a-/AOh14GipCjJ_Toz36oaKm2fXTpDzjwm9bTCh4YjPeFLQ=s64",
      "userId": "09310606185569209733"
     },
     "user_tz": -360
    },
    "id": "jN4uZGNZOt_Z",
    "outputId": "9a21bbcd-26dd-446f-f670-7ccf59474f17"
   },
   "outputs": [
    {
     "data": {
      "text/plain": [
       "'abcdefghijk'"
      ]
     },
     "execution_count": 3,
     "metadata": {},
     "output_type": "execute_result"
    }
   ],
   "source": [
    "mystring='abcdefghijk'\n",
    "mystring"
   ]
  },
  {
   "cell_type": "code",
   "execution_count": 4,
   "metadata": {
    "colab": {
     "base_uri": "https://localhost:8080/",
     "height": 34
    },
    "colab_type": "code",
    "executionInfo": {
     "elapsed": 3534,
     "status": "ok",
     "timestamp": 1589993356909,
     "user": {
      "displayName": "Swati Kar",
      "photoUrl": "https://lh3.googleusercontent.com/a-/AOh14GipCjJ_Toz36oaKm2fXTpDzjwm9bTCh4YjPeFLQ=s64",
      "userId": "09310606185569209733"
     },
     "user_tz": -360
    },
    "id": "9xHJLV7MO5Xk",
    "outputId": "07470ab8-7c78-4ee4-f698-f1bfe3359614"
   },
   "outputs": [
    {
     "data": {
      "text/plain": [
       "'cdefghijk'"
      ]
     },
     "execution_count": 4,
     "metadata": {},
     "output_type": "execute_result"
    }
   ],
   "source": [
    "#counts from position 2 to last\n",
    "mystring[2:]"
   ]
  },
  {
   "cell_type": "code",
   "execution_count": 5,
   "metadata": {
    "colab": {
     "base_uri": "https://localhost:8080/",
     "height": 34
    },
    "colab_type": "code",
    "executionInfo": {
     "elapsed": 3500,
     "status": "ok",
     "timestamp": 1589993356913,
     "user": {
      "displayName": "Swati Kar",
      "photoUrl": "https://lh3.googleusercontent.com/a-/AOh14GipCjJ_Toz36oaKm2fXTpDzjwm9bTCh4YjPeFLQ=s64",
      "userId": "09310606185569209733"
     },
     "user_tz": -360
    },
    "id": "zwe2ZEhcPAyl",
    "outputId": "270ba40b-e83e-4997-b5b8-ce24f5dd77a3"
   },
   "outputs": [
    {
     "data": {
      "text/plain": [
       "'abc'"
      ]
     },
     "execution_count": 5,
     "metadata": {},
     "output_type": "execute_result"
    }
   ],
   "source": [
    "#counts from 0 position to before 3 poition\n",
    "mystring[:3]"
   ]
  },
  {
   "cell_type": "code",
   "execution_count": 6,
   "metadata": {
    "colab": {
     "base_uri": "https://localhost:8080/",
     "height": 34
    },
    "colab_type": "code",
    "executionInfo": {
     "elapsed": 3457,
     "status": "ok",
     "timestamp": 1589993356915,
     "user": {
      "displayName": "Swati Kar",
      "photoUrl": "https://lh3.googleusercontent.com/a-/AOh14GipCjJ_Toz36oaKm2fXTpDzjwm9bTCh4YjPeFLQ=s64",
      "userId": "09310606185569209733"
     },
     "user_tz": -360
    },
    "id": "q8zbziT4PUgB",
    "outputId": "4099a9e5-ea87-4c81-8fbd-aefd7cd6f278"
   },
   "outputs": [
    {
     "data": {
      "text/plain": [
       "'def'"
      ]
     },
     "execution_count": 6,
     "metadata": {},
     "output_type": "execute_result"
    }
   ],
   "source": [
    "mystring[3:6]"
   ]
  },
  {
   "cell_type": "code",
   "execution_count": 0,
   "metadata": {
    "colab": {
     "base_uri": "https://localhost:8080/",
     "height": 34
    },
    "colab_type": "code",
    "executionInfo": {
     "elapsed": 3416,
     "status": "ok",
     "timestamp": 1589993356918,
     "user": {
      "displayName": "Swati Kar",
      "photoUrl": "https://lh3.googleusercontent.com/a-/AOh14GipCjJ_Toz36oaKm2fXTpDzjwm9bTCh4YjPeFLQ=s64",
      "userId": "09310606185569209733"
     },
     "user_tz": -360
    },
    "id": "Nr0Ya1gaPl9v",
    "outputId": "a258599c-57dc-4131-b5b1-ff51dd729203"
   },
   "outputs": [
    {
     "data": {
      "text/plain": [
       "'abcdefghijk'"
      ]
     },
     "execution_count": 132,
     "metadata": {
      "tags": []
     },
     "output_type": "execute_result"
    }
   ],
   "source": [
    "mystring[::]"
   ]
  },
  {
   "cell_type": "code",
   "execution_count": 7,
   "metadata": {},
   "outputs": [
    {
     "data": {
      "text/plain": [
       "'abcdefghijk'"
      ]
     },
     "execution_count": 7,
     "metadata": {},
     "output_type": "execute_result"
    }
   ],
   "source": [
    "mystring[::1]"
   ]
  },
  {
   "cell_type": "code",
   "execution_count": 8,
   "metadata": {},
   "outputs": [
    {
     "data": {
      "text/plain": [
       "'kjihgfedcba'"
      ]
     },
     "execution_count": 8,
     "metadata": {},
     "output_type": "execute_result"
    }
   ],
   "source": [
    "mystring[::-1]"
   ]
  },
  {
   "cell_type": "code",
   "execution_count": 0,
   "metadata": {
    "colab": {
     "base_uri": "https://localhost:8080/",
     "height": 34
    },
    "colab_type": "code",
    "executionInfo": {
     "elapsed": 3379,
     "status": "ok",
     "timestamp": 1589993356920,
     "user": {
      "displayName": "Swati Kar",
      "photoUrl": "https://lh3.googleusercontent.com/a-/AOh14GipCjJ_Toz36oaKm2fXTpDzjwm9bTCh4YjPeFLQ=s64",
      "userId": "09310606185569209733"
     },
     "user_tz": -360
    },
    "id": "NUlyIuLOPp91",
    "outputId": "c7ac50b8-e685-4be3-de93-81d25204f1a3"
   },
   "outputs": [
    {
     "data": {
      "text/plain": [
       "'acegik'"
      ]
     },
     "execution_count": 133,
     "metadata": {
      "tags": []
     },
     "output_type": "execute_result"
    }
   ],
   "source": [
    "mystring[::2]"
   ]
  },
  {
   "cell_type": "code",
   "execution_count": 0,
   "metadata": {
    "colab": {
     "base_uri": "https://localhost:8080/",
     "height": 34
    },
    "colab_type": "code",
    "executionInfo": {
     "elapsed": 3356,
     "status": "ok",
     "timestamp": 1589993356923,
     "user": {
      "displayName": "Swati Kar",
      "photoUrl": "https://lh3.googleusercontent.com/a-/AOh14GipCjJ_Toz36oaKm2fXTpDzjwm9bTCh4YjPeFLQ=s64",
      "userId": "09310606185569209733"
     },
     "user_tz": -360
    },
    "id": "p1aCfs03P6aI",
    "outputId": "52bae48a-e228-46ec-fe00-bd0caa4dcab6"
   },
   "outputs": [
    {
     "data": {
      "text/plain": [
       "'cegi'"
      ]
     },
     "execution_count": 134,
     "metadata": {
      "tags": []
     },
     "output_type": "execute_result"
    }
   ],
   "source": [
    "mystring[2:9:2]"
   ]
  },
  {
   "cell_type": "code",
   "execution_count": 0,
   "metadata": {
    "colab": {
     "base_uri": "https://localhost:8080/",
     "height": 34
    },
    "colab_type": "code",
    "executionInfo": {
     "elapsed": 3332,
     "status": "ok",
     "timestamp": 1589993356927,
     "user": {
      "displayName": "Swati Kar",
      "photoUrl": "https://lh3.googleusercontent.com/a-/AOh14GipCjJ_Toz36oaKm2fXTpDzjwm9bTCh4YjPeFLQ=s64",
      "userId": "09310606185569209733"
     },
     "user_tz": -360
    },
    "id": "KiciY79PP_-E",
    "outputId": "4a48406c-2f16-45f9-f8e1-69f70a3023b7"
   },
   "outputs": [
    {
     "data": {
      "text/plain": [
       "'kigeca'"
      ]
     },
     "execution_count": 135,
     "metadata": {
      "tags": []
     },
     "output_type": "execute_result"
    }
   ],
   "source": [
    "mystring[::-2]"
   ]
  },
  {
   "cell_type": "code",
   "execution_count": 9,
   "metadata": {
    "colab": {},
    "colab_type": "code",
    "id": "TEYtJVfUQjX-"
   },
   "outputs": [],
   "source": [
    "#string property\n",
    "name = 'sam'"
   ]
  },
  {
   "cell_type": "code",
   "execution_count": 0,
   "metadata": {
    "colab": {
     "base_uri": "https://localhost:8080/",
     "height": 167
    },
    "colab_type": "code",
    "executionInfo": {
     "elapsed": 3363,
     "status": "error",
     "timestamp": 1589993356994,
     "user": {
      "displayName": "Swati Kar",
      "photoUrl": "https://lh3.googleusercontent.com/a-/AOh14GipCjJ_Toz36oaKm2fXTpDzjwm9bTCh4YjPeFLQ=s64",
      "userId": "09310606185569209733"
     },
     "user_tz": -360
    },
    "id": "ePpSYkKdQriu",
    "outputId": "cd3bac05-2203-44de-f02a-839d422a4f0f"
   },
   "outputs": [
    {
     "ename": "TypeError",
     "evalue": "ignored",
     "output_type": "error",
     "traceback": [
      "\u001b[0;31m---------------------------------------------------------------------------\u001b[0m",
      "\u001b[0;31mTypeError\u001b[0m                                 Traceback (most recent call last)",
      "\u001b[0;32m<ipython-input-137-7dc40d153542>\u001b[0m in \u001b[0;36m<module>\u001b[0;34m()\u001b[0m\n\u001b[0;32m----> 1\u001b[0;31m \u001b[0mname\u001b[0m\u001b[0;34m[\u001b[0m\u001b[0;36m0\u001b[0m\u001b[0;34m]\u001b[0m\u001b[0;34m=\u001b[0m\u001b[0;34m'p'\u001b[0m\u001b[0;34m\u001b[0m\u001b[0;34m\u001b[0m\u001b[0m\n\u001b[0m",
      "\u001b[0;31mTypeError\u001b[0m: 'str' object does not support item assignment"
     ]
    }
   ],
   "source": [
    "#string doesn't support item assignment, list supports \n",
    "name[0]='p'"
   ]
  },
  {
   "cell_type": "code",
   "execution_count": 11,
   "metadata": {
    "colab": {},
    "colab_type": "code",
    "id": "vU5eh3jOQ2xs"
   },
   "outputs": [],
   "source": [
    "last_letters=name[1:]"
   ]
  },
  {
   "cell_type": "code",
   "execution_count": 12,
   "metadata": {
    "colab": {},
    "colab_type": "code",
    "id": "od2Ww6yIRGrE"
   },
   "outputs": [
    {
     "data": {
      "text/plain": [
       "'pam'"
      ]
     },
     "execution_count": 12,
     "metadata": {},
     "output_type": "execute_result"
    }
   ],
   "source": [
    "'p'+last_letters"
   ]
  },
  {
   "cell_type": "code",
   "execution_count": 0,
   "metadata": {
    "colab": {},
    "colab_type": "code",
    "id": "8FGhVqnFRdvG"
   },
   "outputs": [],
   "source": [
    "x='hello world'"
   ]
  },
  {
   "cell_type": "code",
   "execution_count": 0,
   "metadata": {
    "colab": {
     "base_uri": "https://localhost:8080/",
     "height": 34
    },
    "colab_type": "code",
    "executionInfo": {
     "elapsed": 1111,
     "status": "ok",
     "timestamp": 1590124730540,
     "user": {
      "displayName": "Swati Kar",
      "photoUrl": "https://lh3.googleusercontent.com/a-/AOh14GipCjJ_Toz36oaKm2fXTpDzjwm9bTCh4YjPeFLQ=s64",
      "userId": "09310606185569209733"
     },
     "user_tz": -360
    },
    "id": "floxwtLHRiVf",
    "outputId": "d3a5c560-1e1b-4504-8c72-0afe64f4a526"
   },
   "outputs": [
    {
     "data": {
      "text/plain": [
       "'hello world it is beautiful'"
      ]
     },
     "execution_count": 2,
     "metadata": {
      "tags": []
     },
     "output_type": "execute_result"
    }
   ],
   "source": [
    "x + ' it is beautiful'"
   ]
  },
  {
   "cell_type": "code",
   "execution_count": 0,
   "metadata": {
    "colab": {},
    "colab_type": "code",
    "id": "wnUpHlalSYoX"
   },
   "outputs": [],
   "source": [
    "letter='z'"
   ]
  },
  {
   "cell_type": "code",
   "execution_count": 0,
   "metadata": {
    "colab": {
     "base_uri": "https://localhost:8080/",
     "height": 34
    },
    "colab_type": "code",
    "executionInfo": {
     "elapsed": 1858,
     "status": "ok",
     "timestamp": 1590124740867,
     "user": {
      "displayName": "Swati Kar",
      "photoUrl": "https://lh3.googleusercontent.com/a-/AOh14GipCjJ_Toz36oaKm2fXTpDzjwm9bTCh4YjPeFLQ=s64",
      "userId": "09310606185569209733"
     },
     "user_tz": -360
    },
    "id": "NdvsHkCyScjc",
    "outputId": "651d9b66-1c69-4df0-9fb5-67db54a959e3"
   },
   "outputs": [
    {
     "data": {
      "text/plain": [
       "'zzzzzzzzzz'"
      ]
     },
     "execution_count": 4,
     "metadata": {
      "tags": []
     },
     "output_type": "execute_result"
    }
   ],
   "source": [
    "letter * 10"
   ]
  },
  {
   "cell_type": "code",
   "execution_count": 0,
   "metadata": {
    "colab": {},
    "colab_type": "code",
    "id": "pEFzcLJfTPKB"
   },
   "outputs": [],
   "source": [
    "x='hello world'"
   ]
  },
  {
   "cell_type": "code",
   "execution_count": 0,
   "metadata": {
    "colab": {
     "base_uri": "https://localhost:8080/",
     "height": 34
    },
    "colab_type": "code",
    "executionInfo": {
     "elapsed": 1062,
     "status": "ok",
     "timestamp": 1590124755435,
     "user": {
      "displayName": "Swati Kar",
      "photoUrl": "https://lh3.googleusercontent.com/a-/AOh14GipCjJ_Toz36oaKm2fXTpDzjwm9bTCh4YjPeFLQ=s64",
      "userId": "09310606185569209733"
     },
     "user_tz": -360
    },
    "id": "aiZ6QplsTqg9",
    "outputId": "dbf42722-8d34-43b9-898c-1a3058e848e5"
   },
   "outputs": [
    {
     "data": {
      "text/plain": [
       "'HELLO WORLD'"
      ]
     },
     "execution_count": 7,
     "metadata": {
      "tags": []
     },
     "output_type": "execute_result"
    }
   ],
   "source": [
    "x.upper()"
   ]
  },
  {
   "cell_type": "code",
   "execution_count": 0,
   "metadata": {
    "colab": {
     "base_uri": "https://localhost:8080/",
     "height": 34
    },
    "colab_type": "code",
    "executionInfo": {
     "elapsed": 1038,
     "status": "ok",
     "timestamp": 1590124764922,
     "user": {
      "displayName": "Swati Kar",
      "photoUrl": "https://lh3.googleusercontent.com/a-/AOh14GipCjJ_Toz36oaKm2fXTpDzjwm9bTCh4YjPeFLQ=s64",
      "userId": "09310606185569209733"
     },
     "user_tz": -360
    },
    "id": "NXCLyRjyTwnX",
    "outputId": "042ed956-5a03-4be8-a82d-6db4d588f008"
   },
   "outputs": [
    {
     "data": {
      "text/plain": [
       "['hello', 'world']"
      ]
     },
     "execution_count": 8,
     "metadata": {
      "tags": []
     },
     "output_type": "execute_result"
    }
   ],
   "source": [
    "#creat list\n",
    "y = x.split()\n",
    "y"
   ]
  },
  {
   "cell_type": "code",
   "execution_count": 0,
   "metadata": {
    "colab": {},
    "colab_type": "code",
    "id": "I5C1NoINVvfs"
   },
   "outputs": [],
   "source": [
    "x ='hi this be a string'\n"
   ]
  },
  {
   "cell_type": "code",
   "execution_count": 0,
   "metadata": {
    "colab": {
     "base_uri": "https://localhost:8080/",
     "height": 34
    },
    "colab_type": "code",
    "executionInfo": {
     "elapsed": 1028,
     "status": "ok",
     "timestamp": 1590124791067,
     "user": {
      "displayName": "Swati Kar",
      "photoUrl": "https://lh3.googleusercontent.com/a-/AOh14GipCjJ_Toz36oaKm2fXTpDzjwm9bTCh4YjPeFLQ=s64",
      "userId": "09310606185569209733"
     },
     "user_tz": -360
    },
    "id": "iY_9odkyWJ63",
    "outputId": "05658aa1-d5a5-4e9b-9be9-5a6fbc38948e"
   },
   "outputs": [
    {
     "data": {
      "text/plain": [
       "['h', ' th', 's be a str', 'ng']"
      ]
     },
     "execution_count": 10,
     "metadata": {
      "tags": []
     },
     "output_type": "execute_result"
    }
   ],
   "source": [
    "x.split('i')"
   ]
  },
  {
   "cell_type": "code",
   "execution_count": 0,
   "metadata": {
    "colab": {
     "base_uri": "https://localhost:8080/",
     "height": 34
    },
    "colab_type": "code",
    "executionInfo": {
     "elapsed": 1146,
     "status": "ok",
     "timestamp": 1590124803520,
     "user": {
      "displayName": "Swati Kar",
      "photoUrl": "https://lh3.googleusercontent.com/a-/AOh14GipCjJ_Toz36oaKm2fXTpDzjwm9bTCh4YjPeFLQ=s64",
      "userId": "09310606185569209733"
     },
     "user_tz": -360
    },
    "id": "tOZ-MSegXLyM",
    "outputId": "6f99ae64-7272-4be2-97d5-d46201ebc6b1"
   },
   "outputs": [
    {
     "name": "stdout",
     "output_type": "stream",
     "text": [
      "my name is Swati\n"
     ]
    }
   ],
   "source": [
    "#fomatting \n",
    "print('my name is {}'.format(\"Swati\"))"
   ]
  },
  {
   "cell_type": "code",
   "execution_count": 0,
   "metadata": {
    "colab": {
     "base_uri": "https://localhost:8080/",
     "height": 34
    },
    "colab_type": "code",
    "executionInfo": {
     "elapsed": 1453,
     "status": "ok",
     "timestamp": 1590124809267,
     "user": {
      "displayName": "Swati Kar",
      "photoUrl": "https://lh3.googleusercontent.com/a-/AOh14GipCjJ_Toz36oaKm2fXTpDzjwm9bTCh4YjPeFLQ=s64",
      "userId": "09310606185569209733"
     },
     "user_tz": -360
    },
    "id": "lWJW3_fue7ge",
    "outputId": "39227882-8f28-4b58-d4ea-c5704c07f2ac"
   },
   "outputs": [
    {
     "name": "stdout",
     "output_type": "stream",
     "text": [
      "the shuvo swati\n"
     ]
    }
   ],
   "source": [
    "print('the {1} {0}'.format('swati','shuvo'))"
   ]
  },
  {
   "cell_type": "code",
   "execution_count": 0,
   "metadata": {
    "colab": {
     "base_uri": "https://localhost:8080/",
     "height": 34
    },
    "colab_type": "code",
    "executionInfo": {
     "elapsed": 1205,
     "status": "ok",
     "timestamp": 1590124815163,
     "user": {
      "displayName": "Swati Kar",
      "photoUrl": "https://lh3.googleusercontent.com/a-/AOh14GipCjJ_Toz36oaKm2fXTpDzjwm9bTCh4YjPeFLQ=s64",
      "userId": "09310606185569209733"
     },
     "user_tz": -360
    },
    "id": "NzTcTW8NgFVw",
    "outputId": "df25eaf3-5791-408d-cc3d-d81d470430fb"
   },
   "outputs": [
    {
     "data": {
      "text/plain": [
       "0.1287001287001287"
      ]
     },
     "execution_count": 13,
     "metadata": {
      "tags": []
     },
     "output_type": "execute_result"
    }
   ],
   "source": [
    "result = 100/777\n",
    "result"
   ]
  },
  {
   "cell_type": "code",
   "execution_count": 0,
   "metadata": {
    "colab": {
     "base_uri": "https://localhost:8080/",
     "height": 34
    },
    "colab_type": "code",
    "executionInfo": {
     "elapsed": 1113,
     "status": "ok",
     "timestamp": 1590124819833,
     "user": {
      "displayName": "Swati Kar",
      "photoUrl": "https://lh3.googleusercontent.com/a-/AOh14GipCjJ_Toz36oaKm2fXTpDzjwm9bTCh4YjPeFLQ=s64",
      "userId": "09310606185569209733"
     },
     "user_tz": -360
    },
    "id": "hbpk_9VvgKeJ",
    "outputId": "75d1ab40-1e46-4b60-df9a-0a3143998eb3"
   },
   "outputs": [
    {
     "name": "stdout",
     "output_type": "stream",
     "text": [
      "the result is 0.129\n"
     ]
    }
   ],
   "source": [
    "# .3f means 3 numbers after point\n",
    "print('the result is {r:.3f}'.format(r=result))"
   ]
  },
  {
   "cell_type": "code",
   "execution_count": 0,
   "metadata": {
    "colab": {},
    "colab_type": "code",
    "id": "i0qoMqtCiDFh"
   },
   "outputs": [],
   "source": [
    "n='swati'\n",
    "age = 3"
   ]
  },
  {
   "cell_type": "code",
   "execution_count": 0,
   "metadata": {
    "colab": {
     "base_uri": "https://localhost:8080/",
     "height": 34
    },
    "colab_type": "code",
    "executionInfo": {
     "elapsed": 1056,
     "status": "ok",
     "timestamp": 1590124837047,
     "user": {
      "displayName": "Swati Kar",
      "photoUrl": "https://lh3.googleusercontent.com/a-/AOh14GipCjJ_Toz36oaKm2fXTpDzjwm9bTCh4YjPeFLQ=s64",
      "userId": "09310606185569209733"
     },
     "user_tz": -360
    },
    "id": "TEr0jT8miHQF",
    "outputId": "cd209690-ecee-4895-c359-cf97b83998a8"
   },
   "outputs": [
    {
     "name": "stdout",
     "output_type": "stream",
     "text": [
      "swati is 3 years old\n"
     ]
    }
   ],
   "source": [
    "print(f'{n} is {age} years old')"
   ]
  },
  {
   "cell_type": "code",
   "execution_count": 0,
   "metadata": {
    "colab": {},
    "colab_type": "code",
    "id": "oQD5qm60iqlK"
   },
   "outputs": [],
   "source": [
    "#list\n",
    "my_list = ['str',100,3.2]"
   ]
  },
  {
   "cell_type": "code",
   "execution_count": 0,
   "metadata": {
    "colab": {
     "base_uri": "https://localhost:8080/",
     "height": 34
    },
    "colab_type": "code",
    "executionInfo": {
     "elapsed": 1059,
     "status": "ok",
     "timestamp": 1590124846142,
     "user": {
      "displayName": "Swati Kar",
      "photoUrl": "https://lh3.googleusercontent.com/a-/AOh14GipCjJ_Toz36oaKm2fXTpDzjwm9bTCh4YjPeFLQ=s64",
      "userId": "09310606185569209733"
     },
     "user_tz": -360
    },
    "id": "Qn0u_dbXjHHB",
    "outputId": "1a27513f-4f7d-423d-85bf-7926d3d97721"
   },
   "outputs": [
    {
     "data": {
      "text/plain": [
       "3"
      ]
     },
     "execution_count": 18,
     "metadata": {
      "tags": []
     },
     "output_type": "execute_result"
    }
   ],
   "source": [
    "len(my_list)"
   ]
  },
  {
   "cell_type": "code",
   "execution_count": 0,
   "metadata": {
    "colab": {},
    "colab_type": "code",
    "id": "Cxjx_uY5kUsp"
   },
   "outputs": [],
   "source": [
    "another_list=[2,7,'abc']"
   ]
  },
  {
   "cell_type": "code",
   "execution_count": 0,
   "metadata": {
    "colab": {
     "base_uri": "https://localhost:8080/",
     "height": 34
    },
    "colab_type": "code",
    "executionInfo": {
     "elapsed": 1217,
     "status": "ok",
     "timestamp": 1590124862133,
     "user": {
      "displayName": "Swati Kar",
      "photoUrl": "https://lh3.googleusercontent.com/a-/AOh14GipCjJ_Toz36oaKm2fXTpDzjwm9bTCh4YjPeFLQ=s64",
      "userId": "09310606185569209733"
     },
     "user_tz": -360
    },
    "id": "J27xE2xckZ1t",
    "outputId": "c015f406-ea78-4dff-d78c-a52596f1a95e"
   },
   "outputs": [
    {
     "data": {
      "text/plain": [
       "['str', 100, 3.2, 2, 7, 'abc']"
      ]
     },
     "execution_count": 20,
     "metadata": {
      "tags": []
     },
     "output_type": "execute_result"
    }
   ],
   "source": [
    "list=my_list + another_list\n",
    "list"
   ]
  },
  {
   "cell_type": "code",
   "execution_count": 0,
   "metadata": {
    "colab": {
     "base_uri": "https://localhost:8080/",
     "height": 34
    },
    "colab_type": "code",
    "executionInfo": {
     "elapsed": 1369,
     "status": "ok",
     "timestamp": 1590124874382,
     "user": {
      "displayName": "Swati Kar",
      "photoUrl": "https://lh3.googleusercontent.com/a-/AOh14GipCjJ_Toz36oaKm2fXTpDzjwm9bTCh4YjPeFLQ=s64",
      "userId": "09310606185569209733"
     },
     "user_tz": -360
    },
    "id": "isdjA6Blk2mf",
    "outputId": "5568168d-1842-4aad-9a66-3f27c1120065"
   },
   "outputs": [
    {
     "data": {
      "text/plain": [
       "[1, 100, 3.2, 2, 7, 'abc']"
      ]
     },
     "execution_count": 21,
     "metadata": {
      "tags": []
     },
     "output_type": "execute_result"
    }
   ],
   "source": [
    "#mutabily(item assignment),it is not supported by string\n",
    "list[0]=1\n",
    "list"
   ]
  },
  {
   "cell_type": "code",
   "execution_count": 0,
   "metadata": {
    "colab": {
     "base_uri": "https://localhost:8080/",
     "height": 34
    },
    "colab_type": "code",
    "executionInfo": {
     "elapsed": 1076,
     "status": "ok",
     "timestamp": 1590124879955,
     "user": {
      "displayName": "Swati Kar",
      "photoUrl": "https://lh3.googleusercontent.com/a-/AOh14GipCjJ_Toz36oaKm2fXTpDzjwm9bTCh4YjPeFLQ=s64",
      "userId": "09310606185569209733"
     },
     "user_tz": -360
    },
    "id": "Rl003YUQlcz1",
    "outputId": "a7623279-d5ba-430b-a3a7-271e7ed83ec5"
   },
   "outputs": [
    {
     "data": {
      "text/plain": [
       "[1, 100, 3.2, 2, 7, 'abc', 89]"
      ]
     },
     "execution_count": 22,
     "metadata": {
      "tags": []
     },
     "output_type": "execute_result"
    }
   ],
   "source": [
    "#appne adds value in the last position\n",
    "list.append(89)\n",
    "list"
   ]
  },
  {
   "cell_type": "code",
   "execution_count": 0,
   "metadata": {
    "colab": {
     "base_uri": "https://localhost:8080/",
     "height": 34
    },
    "colab_type": "code",
    "executionInfo": {
     "elapsed": 1242,
     "status": "ok",
     "timestamp": 1590124894511,
     "user": {
      "displayName": "Swati Kar",
      "photoUrl": "https://lh3.googleusercontent.com/a-/AOh14GipCjJ_Toz36oaKm2fXTpDzjwm9bTCh4YjPeFLQ=s64",
      "userId": "09310606185569209733"
     },
     "user_tz": -360
    },
    "id": "dqbXwg06l8iE",
    "outputId": "c111eff5-b10e-443e-9e6b-5bba242e12cc"
   },
   "outputs": [
    {
     "data": {
      "text/plain": [
       "89"
      ]
     },
     "execution_count": 23,
     "metadata": {
      "tags": []
     },
     "output_type": "execute_result"
    }
   ],
   "source": [
    "#by default,pop delets the last value from the list \n",
    "list.pop()"
   ]
  },
  {
   "cell_type": "code",
   "execution_count": 0,
   "metadata": {
    "colab": {
     "base_uri": "https://localhost:8080/",
     "height": 34
    },
    "colab_type": "code",
    "executionInfo": {
     "elapsed": 1031,
     "status": "ok",
     "timestamp": 1590124899173,
     "user": {
      "displayName": "Swati Kar",
      "photoUrl": "https://lh3.googleusercontent.com/a-/AOh14GipCjJ_Toz36oaKm2fXTpDzjwm9bTCh4YjPeFLQ=s64",
      "userId": "09310606185569209733"
     },
     "user_tz": -360
    },
    "id": "6Cdfxg6TmDqF",
    "outputId": "a1065258-4aad-4ddf-eafd-16aefa3c8648"
   },
   "outputs": [
    {
     "data": {
      "text/plain": [
       "2"
      ]
     },
     "execution_count": 24,
     "metadata": {
      "tags": []
     },
     "output_type": "execute_result"
    }
   ],
   "source": [
    "list.pop(3)"
   ]
  },
  {
   "cell_type": "code",
   "execution_count": 0,
   "metadata": {
    "colab": {
     "base_uri": "https://localhost:8080/",
     "height": 34
    },
    "colab_type": "code",
    "executionInfo": {
     "elapsed": 1132,
     "status": "ok",
     "timestamp": 1590124917818,
     "user": {
      "displayName": "Swati Kar",
      "photoUrl": "https://lh3.googleusercontent.com/a-/AOh14GipCjJ_Toz36oaKm2fXTpDzjwm9bTCh4YjPeFLQ=s64",
      "userId": "09310606185569209733"
     },
     "user_tz": -360
    },
    "id": "vYfclbph5lrd",
    "outputId": "5613aaf3-862b-4515-a646-70fd5aab54db"
   },
   "outputs": [
    {
     "data": {
      "text/plain": [
       "'val2'"
      ]
     },
     "execution_count": 25,
     "metadata": {
      "tags": []
     },
     "output_type": "execute_result"
    }
   ],
   "source": [
    "#dictionary\n",
    "dict={'key1':'val1','key2':'val2'}\n",
    "dict['key2']"
   ]
  },
  {
   "cell_type": "code",
   "execution_count": 0,
   "metadata": {
    "colab": {},
    "colab_type": "code",
    "id": "QoxDcZDv6Hzu"
   },
   "outputs": [],
   "source": [
    "price={'mango':1.00,'apple':22,'lichi':99}"
   ]
  },
  {
   "cell_type": "code",
   "execution_count": 0,
   "metadata": {
    "colab": {
     "base_uri": "https://localhost:8080/",
     "height": 34
    },
    "colab_type": "code",
    "executionInfo": {
     "elapsed": 1004,
     "status": "ok",
     "timestamp": 1590124933208,
     "user": {
      "displayName": "Swati Kar",
      "photoUrl": "https://lh3.googleusercontent.com/a-/AOh14GipCjJ_Toz36oaKm2fXTpDzjwm9bTCh4YjPeFLQ=s64",
      "userId": "09310606185569209733"
     },
     "user_tz": -360
    },
    "id": "6kGyOO2v6Syp",
    "outputId": "c5875621-26eb-43a3-ada0-ef40fe194cd1"
   },
   "outputs": [
    {
     "data": {
      "text/plain": [
       "99"
      ]
     },
     "execution_count": 27,
     "metadata": {
      "tags": []
     },
     "output_type": "execute_result"
    }
   ],
   "source": [
    "price['lichi']"
   ]
  },
  {
   "cell_type": "code",
   "execution_count": 0,
   "metadata": {
    "colab": {
     "base_uri": "https://localhost:8080/",
     "height": 34
    },
    "colab_type": "code",
    "executionInfo": {
     "elapsed": 1185,
     "status": "ok",
     "timestamp": 1590124936949,
     "user": {
      "displayName": "Swati Kar",
      "photoUrl": "https://lh3.googleusercontent.com/a-/AOh14GipCjJ_Toz36oaKm2fXTpDzjwm9bTCh4YjPeFLQ=s64",
      "userId": "09310606185569209733"
     },
     "user_tz": -360
    },
    "id": "nx5izFDT6vaU",
    "outputId": "91f49b59-9897-401b-acb8-14e591b4a479"
   },
   "outputs": [
    {
     "data": {
      "text/plain": [
       "'asd'"
      ]
     },
     "execution_count": 28,
     "metadata": {
      "tags": []
     },
     "output_type": "execute_result"
    }
   ],
   "source": [
    "d={'k1':123,'k2':[1,2,3],'k3':{'inside':'asd'}}\n",
    "d['k3']['inside']"
   ]
  },
  {
   "cell_type": "code",
   "execution_count": 0,
   "metadata": {
    "colab": {
     "base_uri": "https://localhost:8080/",
     "height": 34
    },
    "colab_type": "code",
    "executionInfo": {
     "elapsed": 1094,
     "status": "ok",
     "timestamp": 1590124940955,
     "user": {
      "displayName": "Swati Kar",
      "photoUrl": "https://lh3.googleusercontent.com/a-/AOh14GipCjJ_Toz36oaKm2fXTpDzjwm9bTCh4YjPeFLQ=s64",
      "userId": "09310606185569209733"
     },
     "user_tz": -360
    },
    "id": "aTSHRSSu7_hR",
    "outputId": "7d8f0cce-2923-42df-e4e6-1255ba970db3"
   },
   "outputs": [
    {
     "name": "stdout",
     "output_type": "stream",
     "text": [
      "[3, 2, 1]\n"
     ]
    }
   ],
   "source": [
    "l2=d['k2']\n",
    "l2.reverse()\n",
    "print(l2)"
   ]
  },
  {
   "cell_type": "code",
   "execution_count": 0,
   "metadata": {
    "colab": {
     "base_uri": "https://localhost:8080/",
     "height": 34
    },
    "colab_type": "code",
    "executionInfo": {
     "elapsed": 1029,
     "status": "ok",
     "timestamp": 1590125010622,
     "user": {
      "displayName": "Swati Kar",
      "photoUrl": "https://lh3.googleusercontent.com/a-/AOh14GipCjJ_Toz36oaKm2fXTpDzjwm9bTCh4YjPeFLQ=s64",
      "userId": "09310606185569209733"
     },
     "user_tz": -360
    },
    "id": "HrUWO_d886cQ",
    "outputId": "eb76c781-a3e5-4402-9f72-54aabf913f2f"
   },
   "outputs": [
    {
     "data": {
      "text/plain": [
       "{'k1': 123, 'k2': [3, 2, 1], 'k3': {'inside': 'asd'}, 'k4': ['a', 'ss']}"
      ]
     },
     "execution_count": 30,
     "metadata": {
      "tags": []
     },
     "output_type": "execute_result"
    }
   ],
   "source": [
    "d['k4']=['a','ss']\n",
    "d"
   ]
  },
  {
   "cell_type": "code",
   "execution_count": 0,
   "metadata": {
    "colab": {
     "base_uri": "https://localhost:8080/",
     "height": 34
    },
    "colab_type": "code",
    "executionInfo": {
     "elapsed": 842,
     "status": "ok",
     "timestamp": 1590125016029,
     "user": {
      "displayName": "Swati Kar",
      "photoUrl": "https://lh3.googleusercontent.com/a-/AOh14GipCjJ_Toz36oaKm2fXTpDzjwm9bTCh4YjPeFLQ=s64",
      "userId": "09310606185569209733"
     },
     "user_tz": -360
    },
    "id": "zYwBKIsV9U0u",
    "outputId": "53e69332-286d-4005-a671-971416cd5269"
   },
   "outputs": [
    {
     "data": {
      "text/plain": [
       "{'k1': 567, 'k2': [3, 2, 1], 'k3': {'inside': 'asd'}, 'k4': ['a', 'ss']}"
      ]
     },
     "execution_count": 31,
     "metadata": {
      "tags": []
     },
     "output_type": "execute_result"
    }
   ],
   "source": [
    "d['k1']=567\n",
    "d"
   ]
  },
  {
   "cell_type": "code",
   "execution_count": 0,
   "metadata": {
    "colab": {
     "base_uri": "https://localhost:8080/",
     "height": 34
    },
    "colab_type": "code",
    "executionInfo": {
     "elapsed": 1042,
     "status": "ok",
     "timestamp": 1589993419238,
     "user": {
      "displayName": "Swati Kar",
      "photoUrl": "https://lh3.googleusercontent.com/a-/AOh14GipCjJ_Toz36oaKm2fXTpDzjwm9bTCh4YjPeFLQ=s64",
      "userId": "09310606185569209733"
     },
     "user_tz": -360
    },
    "id": "Ktp6Phwr9t5r",
    "outputId": "93af1299-0c60-4098-c721-4c10e3752306"
   },
   "outputs": [
    {
     "data": {
      "text/plain": [
       "dict_keys(['k1', 'k2', 'k3'])"
      ]
     },
     "execution_count": 140,
     "metadata": {
      "tags": []
     },
     "output_type": "execute_result"
    }
   ],
   "source": [
    "d.keys()"
   ]
  },
  {
   "cell_type": "code",
   "execution_count": 0,
   "metadata": {
    "colab": {
     "base_uri": "https://localhost:8080/",
     "height": 34
    },
    "colab_type": "code",
    "executionInfo": {
     "elapsed": 1074,
     "status": "ok",
     "timestamp": 1589993761721,
     "user": {
      "displayName": "Swati Kar",
      "photoUrl": "https://lh3.googleusercontent.com/a-/AOh14GipCjJ_Toz36oaKm2fXTpDzjwm9bTCh4YjPeFLQ=s64",
      "userId": "09310606185569209733"
     },
     "user_tz": -360
    },
    "id": "JpXUUFOy9zRH",
    "outputId": "8b34994c-307b-46a2-a8d7-2aabba87df3f"
   },
   "outputs": [
    {
     "data": {
      "text/plain": [
       "dict_values([567, [1, 2, 3], {'inside': 'asd'}, ['a', 'ss']])"
      ]
     },
     "execution_count": 6,
     "metadata": {
      "tags": []
     },
     "output_type": "execute_result"
    }
   ],
   "source": [
    "y=d.values()\n",
    "y"
   ]
  },
  {
   "cell_type": "code",
   "execution_count": 0,
   "metadata": {
    "colab": {
     "base_uri": "https://localhost:8080/",
     "height": 34
    },
    "colab_type": "code",
    "executionInfo": {
     "elapsed": 985,
     "status": "ok",
     "timestamp": 1589993427755,
     "user": {
      "displayName": "Swati Kar",
      "photoUrl": "https://lh3.googleusercontent.com/a-/AOh14GipCjJ_Toz36oaKm2fXTpDzjwm9bTCh4YjPeFLQ=s64",
      "userId": "09310606185569209733"
     },
     "user_tz": -360
    },
    "id": "rQbq8xsd-j2X",
    "outputId": "81521ca8-6359-4cb3-cba2-4f89bcbc8eff"
   },
   "outputs": [
    {
     "data": {
      "text/plain": [
       "dict_items([('k1', 567), ('k2', [1, 2, 3]), ('k3', {'inside': 'asd'})])"
      ]
     },
     "execution_count": 142,
     "metadata": {
      "tags": []
     },
     "output_type": "execute_result"
    }
   ],
   "source": []
  },
  {
   "cell_type": "code",
   "execution_count": 0,
   "metadata": {
    "colab": {
     "base_uri": "https://localhost:8080/",
     "height": 34
    },
    "colab_type": "code",
    "executionInfo": {
     "elapsed": 1231,
     "status": "ok",
     "timestamp": 1589993827815,
     "user": {
      "displayName": "Swati Kar",
      "photoUrl": "https://lh3.googleusercontent.com/a-/AOh14GipCjJ_Toz36oaKm2fXTpDzjwm9bTCh4YjPeFLQ=s64",
      "userId": "09310606185569209733"
     },
     "user_tz": -360
    },
    "id": "kGLsM0W9-vrg",
    "outputId": "2d457887-1ed8-4a0b-dc07-27889048df44"
   },
   "outputs": [
    {
     "data": {
      "text/plain": [
       "2"
      ]
     },
     "execution_count": 9,
     "metadata": {
      "tags": []
     },
     "output_type": "execute_result"
    }
   ],
   "source": [
    "#dict to list\n",
    "list(y)[1][1]"
   ]
  },
  {
   "cell_type": "code",
   "execution_count": 0,
   "metadata": {
    "colab": {},
    "colab_type": "code",
    "id": "Ch9j9_bzZDlN"
   },
   "outputs": [],
   "source": [
    "#tuple;immutable while lists are mutable\n",
    "t=(1,3,5,7)\n",
    "l1=[1,3,5,7]"
   ]
  },
  {
   "cell_type": "code",
   "execution_count": 0,
   "metadata": {
    "colab": {
     "base_uri": "https://localhost:8080/",
     "height": 34
    },
    "colab_type": "code",
    "executionInfo": {
     "elapsed": 1298,
     "status": "ok",
     "timestamp": 1590067474217,
     "user": {
      "displayName": "Swati Kar",
      "photoUrl": "https://lh3.googleusercontent.com/a-/AOh14GipCjJ_Toz36oaKm2fXTpDzjwm9bTCh4YjPeFLQ=s64",
      "userId": "09310606185569209733"
     },
     "user_tz": -360
    },
    "id": "b3JtZPlpZ_5_",
    "outputId": "90505d90-2744-46fb-c1dc-9ee8d5c3d320"
   },
   "outputs": [
    {
     "data": {
      "text/plain": [
       "list"
      ]
     },
     "execution_count": 4,
     "metadata": {
      "tags": []
     },
     "output_type": "execute_result"
    }
   ],
   "source": [
    "type(l1)"
   ]
  },
  {
   "cell_type": "code",
   "execution_count": 0,
   "metadata": {
    "colab": {
     "base_uri": "https://localhost:8080/",
     "height": 34
    },
    "colab_type": "code",
    "executionInfo": {
     "elapsed": 845,
     "status": "ok",
     "timestamp": 1590067416240,
     "user": {
      "displayName": "Swati Kar",
      "photoUrl": "https://lh3.googleusercontent.com/a-/AOh14GipCjJ_Toz36oaKm2fXTpDzjwm9bTCh4YjPeFLQ=s64",
      "userId": "09310606185569209733"
     },
     "user_tz": -360
    },
    "id": "D3xSxLfyZyo7",
    "outputId": "7286c39c-790d-4c57-caa3-2a8935915ec3"
   },
   "outputs": [
    {
     "data": {
      "text/plain": [
       "tuple"
      ]
     },
     "execution_count": 2,
     "metadata": {
      "tags": []
     },
     "output_type": "execute_result"
    }
   ],
   "source": [
    "type(t)"
   ]
  },
  {
   "cell_type": "code",
   "execution_count": 0,
   "metadata": {
    "colab": {},
    "colab_type": "code",
    "id": "BUZKrfpQaKIP"
   },
   "outputs": [],
   "source": [
    "t=('a','a','b')"
   ]
  },
  {
   "cell_type": "code",
   "execution_count": 0,
   "metadata": {
    "colab": {
     "base_uri": "https://localhost:8080/",
     "height": 34
    },
    "colab_type": "code",
    "executionInfo": {
     "elapsed": 1028,
     "status": "ok",
     "timestamp": 1590067544472,
     "user": {
      "displayName": "Swati Kar",
      "photoUrl": "https://lh3.googleusercontent.com/a-/AOh14GipCjJ_Toz36oaKm2fXTpDzjwm9bTCh4YjPeFLQ=s64",
      "userId": "09310606185569209733"
     },
     "user_tz": -360
    },
    "id": "_XQDt2qQaQT3",
    "outputId": "f879dc77-05b9-43b1-e4d7-d0cdeb674cfb"
   },
   "outputs": [
    {
     "data": {
      "text/plain": [
       "2"
      ]
     },
     "execution_count": 6,
     "metadata": {
      "tags": []
     },
     "output_type": "execute_result"
    }
   ],
   "source": [
    "t.count('a')"
   ]
  },
  {
   "cell_type": "code",
   "execution_count": 0,
   "metadata": {
    "colab": {
     "base_uri": "https://localhost:8080/",
     "height": 34
    },
    "colab_type": "code",
    "executionInfo": {
     "elapsed": 1053,
     "status": "ok",
     "timestamp": 1590067596487,
     "user": {
      "displayName": "Swati Kar",
      "photoUrl": "https://lh3.googleusercontent.com/a-/AOh14GipCjJ_Toz36oaKm2fXTpDzjwm9bTCh4YjPeFLQ=s64",
      "userId": "09310606185569209733"
     },
     "user_tz": -360
    },
    "id": "62gena-FaeAO",
    "outputId": "543b7434-cbb9-4750-a85f-22085abddc73"
   },
   "outputs": [
    {
     "data": {
      "text/plain": [
       "2"
      ]
     },
     "execution_count": 7,
     "metadata": {
      "tags": []
     },
     "output_type": "execute_result"
    }
   ],
   "source": [
    "t.index('b')"
   ]
  },
  {
   "cell_type": "code",
   "execution_count": 0,
   "metadata": {
    "colab": {},
    "colab_type": "code",
    "id": "fNBVEu3QaqxN"
   },
   "outputs": [],
   "source": []
  },
  {
   "cell_type": "markdown",
   "metadata": {
    "colab_type": "text",
    "id": "KPtkbDF9bZU4"
   },
   "source": [
    "Tuples maintain data integrity. it means data won't loss."
   ]
  },
  {
   "cell_type": "markdown",
   "metadata": {
    "colab_type": "text",
    "id": "Anm3G3hPb1hJ"
   },
   "source": [
    "**Set**\n",
    "\n",
    "unordered collections of unique elements"
   ]
  },
  {
   "cell_type": "code",
   "execution_count": 0,
   "metadata": {
    "colab": {},
    "colab_type": "code",
    "id": "yX3O44fWcFyy"
   },
   "outputs": [],
   "source": [
    "myset = set()"
   ]
  },
  {
   "cell_type": "code",
   "execution_count": 0,
   "metadata": {
    "colab": {
     "base_uri": "https://localhost:8080/",
     "height": 34
    },
    "colab_type": "code",
    "executionInfo": {
     "elapsed": 1144,
     "status": "ok",
     "timestamp": 1590068110451,
     "user": {
      "displayName": "Swati Kar",
      "photoUrl": "https://lh3.googleusercontent.com/a-/AOh14GipCjJ_Toz36oaKm2fXTpDzjwm9bTCh4YjPeFLQ=s64",
      "userId": "09310606185569209733"
     },
     "user_tz": -360
    },
    "id": "fv-pnjTrcafN",
    "outputId": "f10d3a9a-38c3-4bf9-af86-b4e2c737d8e3"
   },
   "outputs": [
    {
     "data": {
      "text/plain": [
       "set()"
      ]
     },
     "execution_count": 9,
     "metadata": {
      "tags": []
     },
     "output_type": "execute_result"
    }
   ],
   "source": [
    "myset"
   ]
  },
  {
   "cell_type": "code",
   "execution_count": 0,
   "metadata": {
    "colab": {
     "base_uri": "https://localhost:8080/",
     "height": 34
    },
    "colab_type": "code",
    "executionInfo": {
     "elapsed": 1212,
     "status": "ok",
     "timestamp": 1590068181825,
     "user": {
      "displayName": "Swati Kar",
      "photoUrl": "https://lh3.googleusercontent.com/a-/AOh14GipCjJ_Toz36oaKm2fXTpDzjwm9bTCh4YjPeFLQ=s64",
      "userId": "09310606185569209733"
     },
     "user_tz": -360
    },
    "id": "bHXYCqOwce1U",
    "outputId": "6d42440b-c427-4c1c-a073-16a18eb2a476"
   },
   "outputs": [
    {
     "data": {
      "text/plain": [
       "{1}"
      ]
     },
     "execution_count": 13,
     "metadata": {
      "tags": []
     },
     "output_type": "execute_result"
    }
   ],
   "source": [
    "myset.add(1)\n",
    "myset"
   ]
  },
  {
   "cell_type": "code",
   "execution_count": 0,
   "metadata": {
    "colab": {
     "base_uri": "https://localhost:8080/",
     "height": 34
    },
    "colab_type": "code",
    "executionInfo": {
     "elapsed": 1301,
     "status": "ok",
     "timestamp": 1590068219737,
     "user": {
      "displayName": "Swati Kar",
      "photoUrl": "https://lh3.googleusercontent.com/a-/AOh14GipCjJ_Toz36oaKm2fXTpDzjwm9bTCh4YjPeFLQ=s64",
      "userId": "09310606185569209733"
     },
     "user_tz": -360
    },
    "id": "Jrd_SrP4cwiu",
    "outputId": "04f6df2d-bd20-4b66-8aaa-e4a7111462d9"
   },
   "outputs": [
    {
     "data": {
      "text/plain": [
       "{1, 2}"
      ]
     },
     "execution_count": 15,
     "metadata": {
      "tags": []
     },
     "output_type": "execute_result"
    }
   ],
   "source": [
    "myset.add(2)\n",
    "myset"
   ]
  },
  {
   "cell_type": "code",
   "execution_count": 0,
   "metadata": {
    "colab": {
     "base_uri": "https://localhost:8080/",
     "height": 141
    },
    "colab_type": "code",
    "executionInfo": {
     "elapsed": 1068,
     "status": "ok",
     "timestamp": 1590068573349,
     "user": {
      "displayName": "Swati Kar",
      "photoUrl": "https://lh3.googleusercontent.com/a-/AOh14GipCjJ_Toz36oaKm2fXTpDzjwm9bTCh4YjPeFLQ=s64",
      "userId": "09310606185569209733"
     },
     "user_tz": -360
    },
    "id": "B1_WMnRFc8gF",
    "outputId": "fd340365-615f-4d3a-86e2-b59b201bbe1d"
   },
   "outputs": [
    {
     "name": "stdout",
     "output_type": "stream",
     "text": [
      "a\n",
      "b\n",
      "c\n",
      "d\n",
      "b\n",
      "d\n"
     ]
    },
    {
     "data": {
      "text/plain": [
       "{'a', 'b', 'c', 'd'}"
      ]
     },
     "execution_count": 17,
     "metadata": {
      "tags": []
     },
     "output_type": "execute_result"
    }
   ],
   "source": [
    "list1=['a','b','c','d','b','d']\n",
    "myset=set()\n",
    "for index in list1:\n",
    "  print(index)\n",
    "  myset.add(index)\n",
    "\n",
    "myset "
   ]
  },
  {
   "cell_type": "code",
   "execution_count": 0,
   "metadata": {
    "colab": {
     "base_uri": "https://localhost:8080/",
     "height": 34
    },
    "colab_type": "code",
    "executionInfo": {
     "elapsed": 1175,
     "status": "ok",
     "timestamp": 1590068696625,
     "user": {
      "displayName": "Swati Kar",
      "photoUrl": "https://lh3.googleusercontent.com/a-/AOh14GipCjJ_Toz36oaKm2fXTpDzjwm9bTCh4YjPeFLQ=s64",
      "userId": "09310606185569209733"
     },
     "user_tz": -360
    },
    "id": "_cLSCjvxemWl",
    "outputId": "2079afa3-dc8b-4338-993e-39cb4e3ab4f9"
   },
   "outputs": [
    {
     "data": {
      "text/plain": [
       "{'a', 'b', 'c', 'd'}"
      ]
     },
     "execution_count": 18,
     "metadata": {
      "tags": []
     },
     "output_type": "execute_result"
    }
   ],
   "source": [
    "list1=['a','b','c','d','b','d']\n",
    "set(list1)"
   ]
  },
  {
   "cell_type": "markdown",
   "metadata": {
    "colab_type": "text",
    "id": "oP4g2oLqe4lN"
   },
   "source": [
    "**Booleans**"
   ]
  },
  {
   "cell_type": "code",
   "execution_count": 0,
   "metadata": {
    "colab": {
     "base_uri": "https://localhost:8080/",
     "height": 34
    },
    "colab_type": "code",
    "executionInfo": {
     "elapsed": 1251,
     "status": "ok",
     "timestamp": 1590068811445,
     "user": {
      "displayName": "Swati Kar",
      "photoUrl": "https://lh3.googleusercontent.com/a-/AOh14GipCjJ_Toz36oaKm2fXTpDzjwm9bTCh4YjPeFLQ=s64",
      "userId": "09310606185569209733"
     },
     "user_tz": -360
    },
    "id": "C3jeJGfXe8uF",
    "outputId": "fef612de-8c0d-4e52-ee61-51020af487e3"
   },
   "outputs": [
    {
     "data": {
      "text/plain": [
       "True"
      ]
     },
     "execution_count": 19,
     "metadata": {
      "tags": []
     },
     "output_type": "execute_result"
    }
   ],
   "source": [
    "True"
   ]
  },
  {
   "cell_type": "code",
   "execution_count": 0,
   "metadata": {
    "colab": {
     "base_uri": "https://localhost:8080/",
     "height": 34
    },
    "colab_type": "code",
    "executionInfo": {
     "elapsed": 1084,
     "status": "ok",
     "timestamp": 1590068831357,
     "user": {
      "displayName": "Swati Kar",
      "photoUrl": "https://lh3.googleusercontent.com/a-/AOh14GipCjJ_Toz36oaKm2fXTpDzjwm9bTCh4YjPeFLQ=s64",
      "userId": "09310606185569209733"
     },
     "user_tz": -360
    },
    "id": "FwJqHZV8fLh9",
    "outputId": "658a96fd-6d74-4424-cdaf-ab0122ac9218"
   },
   "outputs": [
    {
     "data": {
      "text/plain": [
       "bool"
      ]
     },
     "execution_count": 20,
     "metadata": {
      "tags": []
     },
     "output_type": "execute_result"
    }
   ],
   "source": [
    "type(True)"
   ]
  },
  {
   "cell_type": "code",
   "execution_count": 0,
   "metadata": {
    "colab": {
     "base_uri": "https://localhost:8080/",
     "height": 34
    },
    "colab_type": "code",
    "executionInfo": {
     "elapsed": 1177,
     "status": "ok",
     "timestamp": 1590068850484,
     "user": {
      "displayName": "Swati Kar",
      "photoUrl": "https://lh3.googleusercontent.com/a-/AOh14GipCjJ_Toz36oaKm2fXTpDzjwm9bTCh4YjPeFLQ=s64",
      "userId": "09310606185569209733"
     },
     "user_tz": -360
    },
    "id": "Zs6KBnjJfQxW",
    "outputId": "cb59874e-95b9-43df-b6fe-0f2175e7d7b0"
   },
   "outputs": [
    {
     "data": {
      "text/plain": [
       "False"
      ]
     },
     "execution_count": 21,
     "metadata": {
      "tags": []
     },
     "output_type": "execute_result"
    }
   ],
   "source": [
    "1>2"
   ]
  },
  {
   "cell_type": "code",
   "execution_count": 0,
   "metadata": {
    "colab": {
     "base_uri": "https://localhost:8080/",
     "height": 34
    },
    "colab_type": "code",
    "executionInfo": {
     "elapsed": 1143,
     "status": "ok",
     "timestamp": 1590068864118,
     "user": {
      "displayName": "Swati Kar",
      "photoUrl": "https://lh3.googleusercontent.com/a-/AOh14GipCjJ_Toz36oaKm2fXTpDzjwm9bTCh4YjPeFLQ=s64",
      "userId": "09310606185569209733"
     },
     "user_tz": -360
    },
    "id": "GAfj6keAfUBL",
    "outputId": "b16b1f38-bf3d-4a8e-d767-d60031f8d5f0"
   },
   "outputs": [
    {
     "data": {
      "text/plain": [
       "True"
      ]
     },
     "execution_count": 22,
     "metadata": {
      "tags": []
     },
     "output_type": "execute_result"
    }
   ],
   "source": [
    "1==1"
   ]
  },
  {
   "cell_type": "code",
   "execution_count": 0,
   "metadata": {
    "colab": {},
    "colab_type": "code",
    "id": "5qdYEbcNfa7u"
   },
   "outputs": [],
   "source": [
    "b = None"
   ]
  },
  {
   "cell_type": "markdown",
   "metadata": {
    "colab_type": "text",
    "id": "FnpD5v4uforo"
   },
   "source": [
    "#**Files**"
   ]
  },
  {
   "cell_type": "code",
   "execution_count": 0,
   "metadata": {
    "colab": {
     "base_uri": "https://localhost:8080/",
     "height": 34
    },
    "colab_type": "code",
    "executionInfo": {
     "elapsed": 1138,
     "status": "ok",
     "timestamp": 1590069504980,
     "user": {
      "displayName": "Swati Kar",
      "photoUrl": "https://lh3.googleusercontent.com/a-/AOh14GipCjJ_Toz36oaKm2fXTpDzjwm9bTCh4YjPeFLQ=s64",
      "userId": "09310606185569209733"
     },
     "user_tz": -360
    },
    "id": "GlLcb402fl2p",
    "outputId": "b436aafd-72e8-4fa3-c67f-fd90303e68e0"
   },
   "outputs": [
    {
     "name": "stdout",
     "output_type": "stream",
     "text": [
      "Overwriting myfile.txt\n"
     ]
    }
   ],
   "source": [
    "%%writefile myfile.txt\n",
    "hello this is a text filte\n",
    "this is 2nd file"
   ]
  },
  {
   "cell_type": "code",
   "execution_count": 0,
   "metadata": {
    "colab": {
     "base_uri": "https://localhost:8080/",
     "height": 34
    },
    "colab_type": "code",
    "executionInfo": {
     "elapsed": 1210,
     "status": "ok",
     "timestamp": 1590069533743,
     "user": {
      "displayName": "Swati Kar",
      "photoUrl": "https://lh3.googleusercontent.com/a-/AOh14GipCjJ_Toz36oaKm2fXTpDzjwm9bTCh4YjPeFLQ=s64",
      "userId": "09310606185569209733"
     },
     "user_tz": -360
    },
    "id": "o37R6lL1gUWU",
    "outputId": "9a2917b2-91b8-41b7-9be3-1147c72f9348"
   },
   "outputs": [
    {
     "data": {
      "text/plain": [
       "<_io.TextIOWrapper name='myfile.txt' mode='r' encoding='UTF-8'>"
      ]
     },
     "execution_count": 34,
     "metadata": {
      "tags": []
     },
     "output_type": "execute_result"
    }
   ],
   "source": [
    "myfile = open('myfile.txt')\n",
    "myfile"
   ]
  },
  {
   "cell_type": "code",
   "execution_count": 0,
   "metadata": {
    "colab": {
     "base_uri": "https://localhost:8080/",
     "height": 34
    },
    "colab_type": "code",
    "executionInfo": {
     "elapsed": 990,
     "status": "ok",
     "timestamp": 1590069599864,
     "user": {
      "displayName": "Swati Kar",
      "photoUrl": "https://lh3.googleusercontent.com/a-/AOh14GipCjJ_Toz36oaKm2fXTpDzjwm9bTCh4YjPeFLQ=s64",
      "userId": "09310606185569209733"
     },
     "user_tz": -360
    },
    "id": "QAlmo0llhP5h",
    "outputId": "c65ddc57-a16c-46be-a742-64d298271ab6"
   },
   "outputs": [
    {
     "data": {
      "text/plain": [
       "'/content'"
      ]
     },
     "execution_count": 37,
     "metadata": {
      "tags": []
     },
     "output_type": "execute_result"
    }
   ],
   "source": [
    "pwd myfile.txt"
   ]
  },
  {
   "cell_type": "code",
   "execution_count": 0,
   "metadata": {
    "colab": {
     "base_uri": "https://localhost:8080/",
     "height": 34
    },
    "colab_type": "code",
    "executionInfo": {
     "elapsed": 1129,
     "status": "ok",
     "timestamp": 1590069863357,
     "user": {
      "displayName": "Swati Kar",
      "photoUrl": "https://lh3.googleusercontent.com/a-/AOh14GipCjJ_Toz36oaKm2fXTpDzjwm9bTCh4YjPeFLQ=s64",
      "userId": "09310606185569209733"
     },
     "user_tz": -360
    },
    "id": "RYHpyY28jClI",
    "outputId": "8b315c33-c81d-482e-aa5c-92aea7bbc781"
   },
   "outputs": [
    {
     "data": {
      "text/plain": [
       "'hello this is a text filte\\nthis is 2nd file'"
      ]
     },
     "execution_count": 38,
     "metadata": {
      "tags": []
     },
     "output_type": "execute_result"
    }
   ],
   "source": [
    "myfile.read()"
   ]
  },
  {
   "cell_type": "code",
   "execution_count": 0,
   "metadata": {
    "colab": {
     "base_uri": "https://localhost:8080/",
     "height": 34
    },
    "colab_type": "code",
    "executionInfo": {
     "elapsed": 1089,
     "status": "ok",
     "timestamp": 1590069969024,
     "user": {
      "displayName": "Swati Kar",
      "photoUrl": "https://lh3.googleusercontent.com/a-/AOh14GipCjJ_Toz36oaKm2fXTpDzjwm9bTCh4YjPeFLQ=s64",
      "userId": "09310606185569209733"
     },
     "user_tz": -360
    },
    "id": "5wEDsUG9jhoU",
    "outputId": "0420c2d9-cace-49e6-ff6b-89e45f45c581"
   },
   "outputs": [
    {
     "data": {
      "text/plain": [
       "''"
      ]
     },
     "execution_count": 39,
     "metadata": {
      "tags": []
     },
     "output_type": "execute_result"
    }
   ],
   "source": [
    "myfile.read()"
   ]
  },
  {
   "cell_type": "code",
   "execution_count": 0,
   "metadata": {
    "colab": {
     "base_uri": "https://localhost:8080/",
     "height": 34
    },
    "colab_type": "code",
    "executionInfo": {
     "elapsed": 1108,
     "status": "ok",
     "timestamp": 1590070026057,
     "user": {
      "displayName": "Swati Kar",
      "photoUrl": "https://lh3.googleusercontent.com/a-/AOh14GipCjJ_Toz36oaKm2fXTpDzjwm9bTCh4YjPeFLQ=s64",
      "userId": "09310606185569209733"
     },
     "user_tz": -360
    },
    "id": "Ggi5AYq4jtV-",
    "outputId": "4a795f18-bfce-4e30-8016-64acc834a0b3"
   },
   "outputs": [
    {
     "data": {
      "text/plain": [
       "0"
      ]
     },
     "execution_count": 40,
     "metadata": {
      "tags": []
     },
     "output_type": "execute_result"
    }
   ],
   "source": [
    "myfile.seek(0)"
   ]
  },
  {
   "cell_type": "code",
   "execution_count": 0,
   "metadata": {
    "colab": {
     "base_uri": "https://localhost:8080/",
     "height": 34
    },
    "colab_type": "code",
    "executionInfo": {
     "elapsed": 1046,
     "status": "ok",
     "timestamp": 1590070046470,
     "user": {
      "displayName": "Swati Kar",
      "photoUrl": "https://lh3.googleusercontent.com/a-/AOh14GipCjJ_Toz36oaKm2fXTpDzjwm9bTCh4YjPeFLQ=s64",
      "userId": "09310606185569209733"
     },
     "user_tz": -360
    },
    "id": "Bdd58Gqvjy48",
    "outputId": "99d41b44-2725-4a12-fffa-21da0ad4c83d"
   },
   "outputs": [
    {
     "data": {
      "text/plain": [
       "'hello this is a text filte\\nthis is 2nd file'"
      ]
     },
     "execution_count": 42,
     "metadata": {
      "tags": []
     },
     "output_type": "execute_result"
    }
   ],
   "source": [
    "myfile.read()"
   ]
  },
  {
   "cell_type": "code",
   "execution_count": 0,
   "metadata": {
    "colab": {
     "base_uri": "https://localhost:8080/",
     "height": 34
    },
    "colab_type": "code",
    "executionInfo": {
     "elapsed": 1175,
     "status": "ok",
     "timestamp": 1590070222532,
     "user": {
      "displayName": "Swati Kar",
      "photoUrl": "https://lh3.googleusercontent.com/a-/AOh14GipCjJ_Toz36oaKm2fXTpDzjwm9bTCh4YjPeFLQ=s64",
      "userId": "09310606185569209733"
     },
     "user_tz": -360
    },
    "id": "8KSO6ZaBkTmZ",
    "outputId": "7d431cad-5a67-4774-9e83-7f522992a46b"
   },
   "outputs": [
    {
     "data": {
      "text/plain": [
       "'this is 2nd file'"
      ]
     },
     "execution_count": 45,
     "metadata": {
      "tags": []
     },
     "output_type": "execute_result"
    }
   ],
   "source": [
    "myfile.seek(0)\n",
    "myfile.readlines()[1]"
   ]
  },
  {
   "cell_type": "code",
   "execution_count": 0,
   "metadata": {
    "colab": {},
    "colab_type": "code",
    "id": "y098wNgik7uE"
   },
   "outputs": [],
   "source": [
    "myfile.close()"
   ]
  },
  {
   "cell_type": "code",
   "execution_count": 0,
   "metadata": {
    "colab": {},
    "colab_type": "code",
    "id": "FF4X2zKBl9XC"
   },
   "outputs": [],
   "source": [
    "with open('myfile.txt') as new_file:\n",
    "  contents = new_file.read()"
   ]
  },
  {
   "cell_type": "code",
   "execution_count": 0,
   "metadata": {
    "colab": {
     "base_uri": "https://localhost:8080/",
     "height": 34
    },
    "colab_type": "code",
    "executionInfo": {
     "elapsed": 1868,
     "status": "ok",
     "timestamp": 1590070692474,
     "user": {
      "displayName": "Swati Kar",
      "photoUrl": "https://lh3.googleusercontent.com/a-/AOh14GipCjJ_Toz36oaKm2fXTpDzjwm9bTCh4YjPeFLQ=s64",
      "userId": "09310606185569209733"
     },
     "user_tz": -360
    },
    "id": "IRHqfl39mSlY",
    "outputId": "c67c72ef-cca5-48be-fdb7-75fa3187121c"
   },
   "outputs": [
    {
     "data": {
      "text/plain": [
       "'hello this is a text filte\\nthis is 2nd file'"
      ]
     },
     "execution_count": 49,
     "metadata": {
      "tags": []
     },
     "output_type": "execute_result"
    }
   ],
   "source": [
    "contents"
   ]
  },
  {
   "cell_type": "code",
   "execution_count": 0,
   "metadata": {
    "colab": {
     "base_uri": "https://localhost:8080/",
     "height": 34
    },
    "colab_type": "code",
    "executionInfo": {
     "elapsed": 1232,
     "status": "ok",
     "timestamp": 1590072152246,
     "user": {
      "displayName": "Swati Kar",
      "photoUrl": "https://lh3.googleusercontent.com/a-/AOh14GipCjJ_Toz36oaKm2fXTpDzjwm9bTCh4YjPeFLQ=s64",
      "userId": "09310606185569209733"
     },
     "user_tz": -360
    },
    "id": "Nxg3pGdYmabC",
    "outputId": "ae51abd2-0ee2-4afd-d755-8401ee242391"
   },
   "outputs": [
    {
     "data": {
      "text/plain": [
       "''"
      ]
     },
     "execution_count": 52,
     "metadata": {
      "tags": []
     },
     "output_type": "execute_result"
    }
   ],
   "source": [
    "with open('myfile.txt',mode='r') as new_file:\n",
    "  contents = new_file.read()\n",
    "contents\n",
    " "
   ]
  },
  {
   "cell_type": "code",
   "execution_count": 0,
   "metadata": {
    "colab": {
     "base_uri": "https://localhost:8080/",
     "height": 34
    },
    "colab_type": "code",
    "executionInfo": {
     "elapsed": 1266,
     "status": "ok",
     "timestamp": 1590072216554,
     "user": {
      "displayName": "Swati Kar",
      "photoUrl": "https://lh3.googleusercontent.com/a-/AOh14GipCjJ_Toz36oaKm2fXTpDzjwm9bTCh4YjPeFLQ=s64",
      "userId": "09310606185569209733"
     },
     "user_tz": -360
    },
    "id": "W2dIpVvir6ye",
    "outputId": "273d800b-7ef3-4fcf-fd76-9ecacb36e5a3"
   },
   "outputs": [
    {
     "name": "stdout",
     "output_type": "stream",
     "text": [
      "Writing file.txt\n"
     ]
    }
   ],
   "source": [
    "%%writefile file.txt\n",
    "line one\n",
    "line two\n",
    "line three"
   ]
  },
  {
   "cell_type": "code",
   "execution_count": 0,
   "metadata": {
    "colab": {},
    "colab_type": "code",
    "id": "fGWAtkIMsJ94"
   },
   "outputs": [],
   "source": [
    "with open('file.txt',mode='a') as f:\n",
    "  f.write('\\nline four')"
   ]
  },
  {
   "cell_type": "code",
   "execution_count": 0,
   "metadata": {
    "colab": {
     "base_uri": "https://localhost:8080/",
     "height": 87
    },
    "colab_type": "code",
    "executionInfo": {
     "elapsed": 1814,
     "status": "ok",
     "timestamp": 1590072387754,
     "user": {
      "displayName": "Swati Kar",
      "photoUrl": "https://lh3.googleusercontent.com/a-/AOh14GipCjJ_Toz36oaKm2fXTpDzjwm9bTCh4YjPeFLQ=s64",
      "userId": "09310606185569209733"
     },
     "user_tz": -360
    },
    "id": "fAxVscyQsV8J",
    "outputId": "74b2a8aa-660a-4c68-a1c8-8ba59a31c4f4"
   },
   "outputs": [
    {
     "name": "stdout",
     "output_type": "stream",
     "text": [
      "line one\n",
      "line two\n",
      "line threeline four\n",
      "line four\n"
     ]
    }
   ],
   "source": [
    "with open('file.txt',mode='r') as f:\n",
    "  print(f.read())"
   ]
  },
  {
   "cell_type": "code",
   "execution_count": 0,
   "metadata": {
    "colab": {},
    "colab_type": "code",
    "id": "zhWprWdQtRhJ"
   },
   "outputs": [],
   "source": [
    "with open('file1.txt',mode='w') as f:\n",
    "  f.write('new created file')"
   ]
  },
  {
   "cell_type": "code",
   "execution_count": 0,
   "metadata": {
    "colab": {
     "base_uri": "https://localhost:8080/",
     "height": 34
    },
    "colab_type": "code",
    "executionInfo": {
     "elapsed": 1646,
     "status": "ok",
     "timestamp": 1590072573956,
     "user": {
      "displayName": "Swati Kar",
      "photoUrl": "https://lh3.googleusercontent.com/a-/AOh14GipCjJ_Toz36oaKm2fXTpDzjwm9bTCh4YjPeFLQ=s64",
      "userId": "09310606185569209733"
     },
     "user_tz": -360
    },
    "id": "p3rhYb6DtaB1",
    "outputId": "4e748f6a-7e0e-462f-dbd4-388c6181b3e7"
   },
   "outputs": [
    {
     "name": "stdout",
     "output_type": "stream",
     "text": [
      "new created file\n"
     ]
    }
   ],
   "source": [
    "with open('file1.txt',mode='r') as f:\n",
    "  print(f.read())"
   ]
  },
  {
   "cell_type": "code",
   "execution_count": 0,
   "metadata": {
    "colab": {
     "base_uri": "https://localhost:8080/",
     "height": 34
    },
    "colab_type": "code",
    "executionInfo": {
     "elapsed": 1154,
     "status": "ok",
     "timestamp": 1590078746697,
     "user": {
      "displayName": "Swati Kar",
      "photoUrl": "https://lh3.googleusercontent.com/a-/AOh14GipCjJ_Toz36oaKm2fXTpDzjwm9bTCh4YjPeFLQ=s64",
      "userId": "09310606185569209733"
     },
     "user_tz": -360
    },
    "id": "tZP9-taAEGqB",
    "outputId": "9f56ec7a-6ccd-4eb9-be2a-ed54ae6947d6"
   },
   "outputs": [
    {
     "data": {
      "text/plain": [
       "'hello'"
      ]
     },
     "execution_count": 67,
     "metadata": {
      "tags": []
     },
     "output_type": "execute_result"
    }
   ],
   "source": [
    "d={'k1':[{'nest_key':['this is deep',['hello']]}]}\n",
    "#print 'hello'\n",
    "d['k1'][0]['nest_key'][1][0]"
   ]
  },
  {
   "cell_type": "code",
   "execution_count": 0,
   "metadata": {
    "colab": {
     "base_uri": "https://localhost:8080/",
     "height": 34
    },
    "colab_type": "code",
    "executionInfo": {
     "elapsed": 1394,
     "status": "ok",
     "timestamp": 1590078956648,
     "user": {
      "displayName": "Swati Kar",
      "photoUrl": "https://lh3.googleusercontent.com/a-/AOh14GipCjJ_Toz36oaKm2fXTpDzjwm9bTCh4YjPeFLQ=s64",
      "userId": "09310606185569209733"
     },
     "user_tz": -360
    },
    "id": "zDVkk0gEFK40",
    "outputId": "9351e5e2-534d-445d-e65f-ea775578f13a"
   },
   "outputs": [
    {
     "data": {
      "text/plain": [
       "'hello'"
      ]
     },
     "execution_count": 75,
     "metadata": {
      "tags": []
     },
     "output_type": "execute_result"
    }
   ],
   "source": [
    "d={'k1':[1,2,{'k2':['this is tricky',{'tough':[1,2,['hello']]}]}]}\n",
    "d['k1'][2]['k2'][1]['tough'][2][0]"
   ]
  },
  {
   "cell_type": "code",
   "execution_count": 0,
   "metadata": {
    "colab": {
     "base_uri": "https://localhost:8080/",
     "height": 34
    },
    "colab_type": "code",
    "executionInfo": {
     "elapsed": 1094,
     "status": "ok",
     "timestamp": 1590125094984,
     "user": {
      "displayName": "Swati Kar",
      "photoUrl": "https://lh3.googleusercontent.com/a-/AOh14GipCjJ_Toz36oaKm2fXTpDzjwm9bTCh4YjPeFLQ=s64",
      "userId": "09310606185569209733"
     },
     "user_tz": -360
    },
    "id": "z0QQjTS9Gjs0",
    "outputId": "2f936b9d-1939-4224-e19b-1b72f863d763"
   },
   "outputs": [
    {
     "data": {
      "text/plain": [
       "False"
      ]
     },
     "execution_count": 32,
     "metadata": {
      "tags": []
     },
     "output_type": "execute_result"
    }
   ],
   "source": [
    "#what is the boolean output?\n",
    "l_one = [1,2,[3,4]]\n",
    "l_two = [1,2,{'k1':4}]\n",
    "\n",
    "l_one[2][0]>l_two[2]['k1']"
   ]
  },
  {
   "cell_type": "code",
   "execution_count": 3,
   "metadata": {
    "colab": {
     "base_uri": "https://localhost:8080/",
     "height": 34
    },
    "colab_type": "code",
    "executionInfo": {
     "elapsed": 1840,
     "status": "ok",
     "timestamp": 1590230371019,
     "user": {
      "displayName": "Swati Kar",
      "photoUrl": "https://lh3.googleusercontent.com/a-/AOh14GipCjJ_Toz36oaKm2fXTpDzjwm9bTCh4YjPeFLQ=s64",
      "userId": "09310606185569209733"
     },
     "user_tz": -360
    },
    "id": "kXIoYcMuG5oj",
    "outputId": "c0b01dd2-f57d-434b-e407-98e9ac623db2"
   },
   "outputs": [
    {
     "data": {
      "text/plain": [
       "'abcdrfghjk'"
      ]
     },
     "execution_count": 3,
     "metadata": {
      "tags": []
     },
     "output_type": "execute_result"
    }
   ],
   "source": [
    "str1 = 'abcdrfghjkk'\n",
    "str1[:-1]"
   ]
  }
 ],
 "metadata": {
  "colab": {
   "authorship_tag": "ABX9TyMcRKAfDzUDz712EnAQmtAw",
   "collapsed_sections": [],
   "name": "python_data_type",
   "provenance": []
  },
  "kernelspec": {
   "display_name": "Python 3",
   "language": "python",
   "name": "python3"
  },
  "language_info": {
   "codemirror_mode": {
    "name": "ipython",
    "version": 3
   },
   "file_extension": ".py",
   "mimetype": "text/x-python",
   "name": "python",
   "nbconvert_exporter": "python",
   "pygments_lexer": "ipython3",
   "version": "3.7.6"
  }
 },
 "nbformat": 4,
 "nbformat_minor": 1
}
