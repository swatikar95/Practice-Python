{
 "cells": [
  {
   "cell_type": "markdown",
   "metadata": {
    "colab_type": "text",
    "id": "5h1W_DPphD0z"
   },
   "source": [
    "# Functions and Methods Homework \n",
    "\n",
    "Complete the following questions:\n",
    "____\n",
    "**Write a function that computes the volume of a sphere given its radius.**\n",
    "<p>The volume of a sphere is given as $$\\frac{4}{3} πr^3$$</p>"
   ]
  },
  {
   "cell_type": "code",
   "execution_count": 0,
   "metadata": {
    "colab": {},
    "colab_type": "code",
    "id": "FBDVbH2fhD00"
   },
   "outputs": [],
   "source": [
    "def vol(rad):\n",
    "  v = (4/3)*3.1416*(rad**3)\n",
    "  return v"
   ]
  },
  {
   "cell_type": "code",
   "execution_count": 0,
   "metadata": {
    "colab": {
     "base_uri": "https://localhost:8080/",
     "height": 34
    },
    "colab_type": "code",
    "executionInfo": {
     "elapsed": 992,
     "status": "ok",
     "timestamp": 1590556395524,
     "user": {
      "displayName": "Swati Kar",
      "photoUrl": "https://lh3.googleusercontent.com/a-/AOh14GipCjJ_Toz36oaKm2fXTpDzjwm9bTCh4YjPeFLQ=s64",
      "userId": "09310606185569209733"
     },
     "user_tz": -360
    },
    "id": "BMkcOicqi-MP",
    "outputId": "f1fceda7-3482-4d62-dc87-2358b504ad9a"
   },
   "outputs": [
    {
     "data": {
      "text/plain": [
       "33.5104"
      ]
     },
     "execution_count": 6,
     "metadata": {
      "tags": []
     },
     "output_type": "execute_result"
    }
   ],
   "source": [
    "vol(2)"
   ]
  },
  {
   "cell_type": "code",
   "execution_count": 0,
   "metadata": {
    "colab": {},
    "colab_type": "code",
    "id": "H4Wi86LPhD05",
    "outputId": "15ec332f-c0df-4658-9000-07756652e007"
   },
   "outputs": [
    {
     "data": {
      "text/plain": [
       "33.49333333333333"
      ]
     },
     "execution_count": 2,
     "metadata": {
      "tags": []
     },
     "output_type": "execute_result"
    }
   ],
   "source": [
    "# Check\n",
    "vol(2)"
   ]
  },
  {
   "cell_type": "markdown",
   "metadata": {
    "colab_type": "text",
    "id": "O_vkeWz-hD09"
   },
   "source": [
    "___\n",
    "**Write a function that checks whether a number is in a given range (inclusive of high and low)**"
   ]
  },
  {
   "cell_type": "code",
   "execution_count": 0,
   "metadata": {
    "colab": {},
    "colab_type": "code",
    "id": "hmzA5QOshD0-"
   },
   "outputs": [],
   "source": [
    "def ran_check(num,low,high):\n",
    "  for nums in range(low,high):\n",
    "    return (f'{num} is in range between {low} and {high}')"
   ]
  },
  {
   "cell_type": "code",
   "execution_count": 0,
   "metadata": {
    "colab": {
     "base_uri": "https://localhost:8080/",
     "height": 34
    },
    "colab_type": "code",
    "executionInfo": {
     "elapsed": 1010,
     "status": "ok",
     "timestamp": 1590556814656,
     "user": {
      "displayName": "Swati Kar",
      "photoUrl": "https://lh3.googleusercontent.com/a-/AOh14GipCjJ_Toz36oaKm2fXTpDzjwm9bTCh4YjPeFLQ=s64",
      "userId": "09310606185569209733"
     },
     "user_tz": -360
    },
    "id": "wdpYkXy2kHoA",
    "outputId": "2d9a8410-798b-45bc-c91e-f3d0a96a3194"
   },
   "outputs": [
    {
     "data": {
      "text/plain": [
       "'5 is in range between 2 and 7'"
      ]
     },
     "execution_count": 14,
     "metadata": {
      "tags": []
     },
     "output_type": "execute_result"
    }
   ],
   "source": [
    "ran_check(5,2,7)"
   ]
  },
  {
   "cell_type": "code",
   "execution_count": 0,
   "metadata": {
    "colab": {
     "base_uri": "https://localhost:8080/",
     "height": 34
    },
    "colab_type": "code",
    "executionInfo": {
     "elapsed": 989,
     "status": "ok",
     "timestamp": 1590556982755,
     "user": {
      "displayName": "Swati Kar",
      "photoUrl": "https://lh3.googleusercontent.com/a-/AOh14GipCjJ_Toz36oaKm2fXTpDzjwm9bTCh4YjPeFLQ=s64",
      "userId": "09310606185569209733"
     },
     "user_tz": -360
    },
    "id": "4BghozMxhD1B",
    "outputId": "5ce0be6e-5809-4c56-df86-0757861c5712"
   },
   "outputs": [
    {
     "data": {
      "text/plain": [
       "'5 is in range between 2 and 7'"
      ]
     },
     "execution_count": 17,
     "metadata": {
      "tags": []
     },
     "output_type": "execute_result"
    }
   ],
   "source": [
    "# Check\n",
    "ran_check(5,2,7)"
   ]
  },
  {
   "cell_type": "markdown",
   "metadata": {
    "colab_type": "text",
    "id": "o0dzSpcdhD1H"
   },
   "source": [
    "If you only wanted to return a boolean:"
   ]
  },
  {
   "cell_type": "code",
   "execution_count": 0,
   "metadata": {
    "colab": {},
    "colab_type": "code",
    "id": "y3UpjZqfhD1H"
   },
   "outputs": [],
   "source": [
    "def ran_bool(num,low,high):\n",
    "  for nums in range(low,high):\n",
    "    if num in range(low,high):\n",
    "      return True"
   ]
  },
  {
   "cell_type": "code",
   "execution_count": 0,
   "metadata": {
    "colab": {
     "base_uri": "https://localhost:8080/",
     "height": 34
    },
    "colab_type": "code",
    "executionInfo": {
     "elapsed": 996,
     "status": "ok",
     "timestamp": 1590557090503,
     "user": {
      "displayName": "Swati Kar",
      "photoUrl": "https://lh3.googleusercontent.com/a-/AOh14GipCjJ_Toz36oaKm2fXTpDzjwm9bTCh4YjPeFLQ=s64",
      "userId": "09310606185569209733"
     },
     "user_tz": -360
    },
    "id": "cWnysiN3hD1L",
    "outputId": "992281be-87bf-449e-f218-ce2a4dc46e57"
   },
   "outputs": [
    {
     "data": {
      "text/plain": [
       "True"
      ]
     },
     "execution_count": 19,
     "metadata": {
      "tags": []
     },
     "output_type": "execute_result"
    }
   ],
   "source": [
    "ran_bool(3,1,10)"
   ]
  },
  {
   "cell_type": "markdown",
   "metadata": {
    "colab_type": "text",
    "id": "SkRQPqI-hD1P"
   },
   "source": [
    "____\n",
    "**Write a Python function that accepts a string and calculates the number of upper case letters and lower case letters.**\n",
    "\n",
    "    Sample String : 'Hello Mr. Rogers, how are you this fine Tuesday?'\n",
    "    Expected Output : \n",
    "    No. of Upper case characters : 4\n",
    "    No. of Lower case Characters : 33\n",
    "\n",
    "HINT: Two string methods that might prove useful: **.isupper()** and **.islower()**\n",
    "\n",
    "If you feel ambitious, explore the Collections module to solve this problem!"
   ]
  },
  {
   "cell_type": "code",
   "execution_count": 0,
   "metadata": {
    "colab": {},
    "colab_type": "code",
    "id": "I94cQ6L1hD1Q"
   },
   "outputs": [],
   "source": [
    "def up_low(s):\n",
    "  count_upper = 0\n",
    "  count_lower = 0\n",
    "  for letter in s:\n",
    "    \n",
    "    if(letter.isupper()):\n",
    "      count_upper += 1\n",
    "    elif(letter.islower()):\n",
    "      count_lower += 1\n",
    "\n",
    "  print(count_upper)\n",
    "  print(count_lower)\n",
    "    \n",
    "  \n",
    "      \n",
    "   "
   ]
  },
  {
   "cell_type": "code",
   "execution_count": 0,
   "metadata": {
    "colab": {
     "base_uri": "https://localhost:8080/",
     "height": 51
    },
    "colab_type": "code",
    "executionInfo": {
     "elapsed": 1059,
     "status": "ok",
     "timestamp": 1590578142754,
     "user": {
      "displayName": "Swati Kar",
      "photoUrl": "https://lh3.googleusercontent.com/a-/AOh14GipCjJ_Toz36oaKm2fXTpDzjwm9bTCh4YjPeFLQ=s64",
      "userId": "09310606185569209733"
     },
     "user_tz": -360
    },
    "id": "Nw2sED20hD1V",
    "outputId": "b7a6869d-d6ee-4c22-f68c-cbc13ec6e28f"
   },
   "outputs": [
    {
     "name": "stdout",
     "output_type": "stream",
     "text": [
      "4\n",
      "33\n"
     ]
    }
   ],
   "source": [
    "s = 'Hello Mr. Rogers, how are you this fine Tuesday?'\n",
    "up_low(s)"
   ]
  },
  {
   "cell_type": "markdown",
   "metadata": {
    "colab_type": "text",
    "id": "7JmjmxqBhD1Y"
   },
   "source": [
    "____\n",
    "**Write a Python function that takes a list and returns a new list with unique elements of the first list.**\n",
    "\n",
    "    Sample List : [1,1,1,1,2,2,3,3,3,3,4,5]\n",
    "    Unique List : [1, 2, 3, 4, 5]"
   ]
  },
  {
   "cell_type": "code",
   "execution_count": 0,
   "metadata": {
    "colab": {},
    "colab_type": "code",
    "id": "ZwBw_Y2NhD1Z"
   },
   "outputs": [],
   "source": [
    "def unique_list(lst):\n",
    "  unique1= []\n",
    "  for num in lst:\n",
    "    if not(num in unique1):\n",
    "      unique1.append(num)      \n",
    "  return unique1"
   ]
  },
  {
   "cell_type": "code",
   "execution_count": 51,
   "metadata": {
    "colab": {
     "base_uri": "https://localhost:8080/",
     "height": 34
    },
    "colab_type": "code",
    "executionInfo": {
     "elapsed": 1017,
     "status": "ok",
     "timestamp": 1590663891660,
     "user": {
      "displayName": "Swati Kar",
      "photoUrl": "https://lh3.googleusercontent.com/a-/AOh14GipCjJ_Toz36oaKm2fXTpDzjwm9bTCh4YjPeFLQ=s64",
      "userId": "09310606185569209733"
     },
     "user_tz": -360
    },
    "id": "5zvm5gWnhD1b",
    "outputId": "99668c17-a17d-44e0-b779-09171e2b5f1a"
   },
   "outputs": [
    {
     "data": {
      "text/plain": [
       "[1, 2, 3, 4, 5]"
      ]
     },
     "execution_count": 51,
     "metadata": {
      "tags": []
     },
     "output_type": "execute_result"
    }
   ],
   "source": [
    "unique_list([1,1,1,1,2,2,3,3,3,3,4,5])"
   ]
  },
  {
   "cell_type": "markdown",
   "metadata": {
    "colab_type": "text",
    "id": "a8GvIEuDhD1e"
   },
   "source": [
    "____\n",
    "**Write a Python function to multiply all the numbers in a list.**\n",
    "\n",
    "    Sample List : [1, 2, 3, -4]\n",
    "    Expected Output : -24"
   ]
  },
  {
   "cell_type": "code",
   "execution_count": 0,
   "metadata": {
    "colab": {},
    "colab_type": "code",
    "id": "zPiXf1unhD1g"
   },
   "outputs": [],
   "source": [
    "def multiply(numbers):\n",
    "  mul = 1;\n",
    "  for num in numbers:\n",
    "    mul = mul*num\n",
    "    print(mul)\n",
    "    \n",
    "  # x= numbers[0]*numbers[1]*numbers[2]*numbers[3]\n",
    "\n",
    "  return mul"
   ]
  },
  {
   "cell_type": "code",
   "execution_count": 46,
   "metadata": {
    "colab": {
     "base_uri": "https://localhost:8080/",
     "height": 102
    },
    "colab_type": "code",
    "executionInfo": {
     "elapsed": 1058,
     "status": "ok",
     "timestamp": 1590663692069,
     "user": {
      "displayName": "Swati Kar",
      "photoUrl": "https://lh3.googleusercontent.com/a-/AOh14GipCjJ_Toz36oaKm2fXTpDzjwm9bTCh4YjPeFLQ=s64",
      "userId": "09310606185569209733"
     },
     "user_tz": -360
    },
    "id": "FSJXMYO8hD1k",
    "outputId": "14486304-2349-4bbd-eb51-2bd7b6e2da1f"
   },
   "outputs": [
    {
     "name": "stdout",
     "output_type": "stream",
     "text": [
      "1\n",
      "2\n",
      "6\n",
      "-24\n"
     ]
    },
    {
     "data": {
      "text/plain": [
       "-24"
      ]
     },
     "execution_count": 46,
     "metadata": {
      "tags": []
     },
     "output_type": "execute_result"
    }
   ],
   "source": [
    "multiply([1,2,3,-4])"
   ]
  },
  {
   "cell_type": "markdown",
   "metadata": {
    "colab_type": "text",
    "id": "h2iLn68thD1p"
   },
   "source": [
    "____\n",
    "**Write a Python function that checks whether a passed in string is palindrome or not.**\n",
    "\n",
    "Note: A palindrome is word, phrase, or sequence that reads the same backward as forward, e.g., madam or nurses run."
   ]
  },
  {
   "cell_type": "code",
   "execution_count": 0,
   "metadata": {
    "colab": {},
    "colab_type": "code",
    "id": "eSHbTDvihD1p"
   },
   "outputs": [],
   "source": [
    "def palindrome(s):\n",
    "    # print(letter)\n",
    "  if(s[::1] == s[::-1]):\n",
    "    return True\n",
    "  else:\n",
    "    return False\n"
   ]
  },
  {
   "cell_type": "code",
   "execution_count": 0,
   "metadata": {
    "colab": {
     "base_uri": "https://localhost:8080/",
     "height": 34
    },
    "colab_type": "code",
    "executionInfo": {
     "elapsed": 994,
     "status": "ok",
     "timestamp": 1590588623277,
     "user": {
      "displayName": "Swati Kar",
      "photoUrl": "https://lh3.googleusercontent.com/a-/AOh14GipCjJ_Toz36oaKm2fXTpDzjwm9bTCh4YjPeFLQ=s64",
      "userId": "09310606185569209733"
     },
     "user_tz": -360
    },
    "id": "WZthkRGihD1s",
    "outputId": "c9a9ec9f-0623-4738-dd60-f19707550171"
   },
   "outputs": [
    {
     "data": {
      "text/plain": [
       "True"
      ]
     },
     "execution_count": 45,
     "metadata": {
      "tags": []
     },
     "output_type": "execute_result"
    }
   ],
   "source": [
    "palindrome('mum')"
   ]
  },
  {
   "cell_type": "code",
   "execution_count": 0,
   "metadata": {
    "colab": {
     "base_uri": "https://localhost:8080/",
     "height": 34
    },
    "colab_type": "code",
    "executionInfo": {
     "elapsed": 985,
     "status": "ok",
     "timestamp": 1590588643210,
     "user": {
      "displayName": "Swati Kar",
      "photoUrl": "https://lh3.googleusercontent.com/a-/AOh14GipCjJ_Toz36oaKm2fXTpDzjwm9bTCh4YjPeFLQ=s64",
      "userId": "09310606185569209733"
     },
     "user_tz": -360
    },
    "id": "uXehWyzeaWj5",
    "outputId": "5e2b0435-9b43-47a8-d226-05c314b99244"
   },
   "outputs": [
    {
     "data": {
      "text/plain": [
       "False"
      ]
     },
     "execution_count": 47,
     "metadata": {
      "tags": []
     },
     "output_type": "execute_result"
    }
   ],
   "source": [
    "palindrome('hello')"
   ]
  },
  {
   "cell_type": "markdown",
   "metadata": {
    "colab_type": "text",
    "id": "urNjDqZEhD1v"
   },
   "source": [
    "____\n",
    "#### Hard:\n",
    "\n",
    "**Write a Python function to check whether a string is pangram or not.**\n",
    "\n",
    "    Note : Pangrams are words or sentences containing every letter of the alphabet at least once.\n",
    "    For example : \"The quick brown fox jumps over the lazy dog\"\n",
    "\n",
    "Hint: Look at the string module"
   ]
  },
  {
   "cell_type": "code",
   "execution_count": 0,
   "metadata": {
    "colab": {},
    "colab_type": "code",
    "id": "xPOD4D-IhD1w"
   },
   "outputs": [],
   "source": [
    "import string\n",
    "\n",
    "def ispangram(str1, alphabet=string.ascii_lowercase):\n",
    "  for letter in alphabet:\n",
    "    if (letter in str1.lower()):\n",
    "      continue\n",
    "    else:\n",
    "      return False\n",
    "  return True\n"
   ]
  },
  {
   "cell_type": "code",
   "execution_count": 63,
   "metadata": {
    "colab": {
     "base_uri": "https://localhost:8080/",
     "height": 34
    },
    "colab_type": "code",
    "executionInfo": {
     "elapsed": 869,
     "status": "ok",
     "timestamp": 1590664536059,
     "user": {
      "displayName": "Swati Kar",
      "photoUrl": "https://lh3.googleusercontent.com/a-/AOh14GipCjJ_Toz36oaKm2fXTpDzjwm9bTCh4YjPeFLQ=s64",
      "userId": "09310606185569209733"
     },
     "user_tz": -360
    },
    "id": "0uCccaHnhD1z",
    "outputId": "34ac360c-7173-4a97-cb74-5f76243b57bb"
   },
   "outputs": [
    {
     "data": {
      "text/plain": [
       "True"
      ]
     },
     "execution_count": 63,
     "metadata": {
      "tags": []
     },
     "output_type": "execute_result"
    }
   ],
   "source": [
    "ispangram(\"The quick brown fox jumps over the lazy dog\")"
   ]
  },
  {
   "cell_type": "code",
   "execution_count": 0,
   "metadata": {
    "colab": {},
    "colab_type": "code",
    "id": "9L6Jyk3ghD13",
    "outputId": "635b2ccc-ac8b-4db6-d051-5b944bf3d2e8"
   },
   "outputs": [
    {
     "data": {
      "text/plain": [
       "'abcdefghijklmnopqrstuvwxyz'"
      ]
     },
     "execution_count": 17,
     "metadata": {
      "tags": []
     },
     "output_type": "execute_result"
    }
   ],
   "source": [
    "string.ascii_lowercase"
   ]
  },
  {
   "cell_type": "markdown",
   "metadata": {
    "colab_type": "text",
    "collapsed": true,
    "id": "cMAf_49IhD17"
   },
   "source": [
    "#### Great Job!"
   ]
  }
 ],
 "metadata": {
  "colab": {
   "collapsed_sections": [],
   "name": "08-Functions and Methods Homework.ipynb",
   "provenance": []
  },
  "kernelspec": {
   "display_name": "Python 3",
   "language": "python",
   "name": "python3"
  },
  "language_info": {
   "codemirror_mode": {
    "name": "ipython",
    "version": 3
   },
   "file_extension": ".py",
   "mimetype": "text/x-python",
   "name": "python",
   "nbconvert_exporter": "python",
   "pygments_lexer": "ipython3",
   "version": "3.7.6"
  }
 },
 "nbformat": 4,
 "nbformat_minor": 1
}
