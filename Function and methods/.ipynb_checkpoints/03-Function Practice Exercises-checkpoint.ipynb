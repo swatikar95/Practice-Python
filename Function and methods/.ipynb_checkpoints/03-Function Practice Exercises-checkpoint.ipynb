{
 "cells": [
  {
   "cell_type": "markdown",
   "metadata": {
    "colab_type": "text",
    "id": "30-qXcWIKC1-"
   },
   "source": [
    "# Function Practice Exercises\n",
    "\n",
    "Problems are arranged in increasing difficulty:\n",
    "* Warmup - these can be solved using basic comparisons and methods\n",
    "* Level 1 - these may involve if/then conditional statements and simple methods\n",
    "* Level 2 - these may require iterating over sequences, usually with some kind of loop\n",
    "* Challenging - these will take some creativity to solve"
   ]
  },
  {
   "cell_type": "markdown",
   "metadata": {
    "colab_type": "text",
    "id": "_sk6Qy-EKC2D"
   },
   "source": [
    "## WARMUP SECTION:"
   ]
  },
  {
   "cell_type": "markdown",
   "metadata": {
    "colab_type": "text",
    "id": "NnTA8Wb1KC2F"
   },
   "source": [
    "#### LESSER OF TWO EVENS: Write a function that returns the lesser of two given numbers *if* both numbers are even, but returns the greater if one or both numbers are odd\n",
    "    lesser_of_two_evens(2,4) --> 2\n",
    "    lesser_of_two_evens(2,5) --> 5"
   ]
  },
  {
   "cell_type": "code",
   "execution_count": 0,
   "metadata": {
    "colab": {},
    "colab_type": "code",
    "id": "VONcpYFJKC2H"
   },
   "outputs": [],
   "source": [
    "def lesser_of_two_evens(a,b):\n",
    "  if (a%2 ==0 and b%2 ==0):\n",
    "    print(min(a,b))\n",
    "  else:\n",
    "    print(max(a,b))"
   ]
  },
  {
   "cell_type": "code",
   "execution_count": 2,
   "metadata": {
    "colab": {
     "base_uri": "https://localhost:8080/",
     "height": 34
    },
    "colab_type": "code",
    "executionInfo": {
     "elapsed": 1036,
     "status": "ok",
     "timestamp": 1590725884997,
     "user": {
      "displayName": "Swati Kar",
      "photoUrl": "https://lh3.googleusercontent.com/a-/AOh14GipCjJ_Toz36oaKm2fXTpDzjwm9bTCh4YjPeFLQ=s64",
      "userId": "09310606185569209733"
     },
     "user_tz": -360
    },
    "id": "oLd3SxefKC2U",
    "outputId": "eb971352-25d4-4eae-9775-2d39c439eede"
   },
   "outputs": [
    {
     "name": "stdout",
     "output_type": "stream",
     "text": [
      "2\n"
     ]
    }
   ],
   "source": [
    "# Check\n",
    "lesser_of_two_evens(2,4)"
   ]
  },
  {
   "cell_type": "code",
   "execution_count": 3,
   "metadata": {
    "colab": {
     "base_uri": "https://localhost:8080/",
     "height": 34
    },
    "colab_type": "code",
    "executionInfo": {
     "elapsed": 1154,
     "status": "ok",
     "timestamp": 1590725889412,
     "user": {
      "displayName": "Swati Kar",
      "photoUrl": "https://lh3.googleusercontent.com/a-/AOh14GipCjJ_Toz36oaKm2fXTpDzjwm9bTCh4YjPeFLQ=s64",
      "userId": "09310606185569209733"
     },
     "user_tz": -360
    },
    "id": "3ITRLWf0KC2c",
    "outputId": "f4484daa-12ae-44a4-cc9e-28e0a883d119"
   },
   "outputs": [
    {
     "name": "stdout",
     "output_type": "stream",
     "text": [
      "5\n"
     ]
    }
   ],
   "source": [
    "# Check\n",
    "lesser_of_two_evens(2,5)"
   ]
  },
  {
   "cell_type": "markdown",
   "metadata": {
    "colab_type": "text",
    "id": "ikm3paCRKC2k"
   },
   "source": [
    "#### ANIMAL CRACKERS: Write a function takes a two-word string and returns True if both words begin with same letter\n",
    "    animal_crackers('Levelheaded Llama') --> True\n",
    "    animal_crackers('Crazy Kangaroo') --> False"
   ]
  },
  {
   "cell_type": "code",
   "execution_count": 0,
   "metadata": {
    "colab": {},
    "colab_type": "code",
    "id": "kZPQ94PgKC2m"
   },
   "outputs": [],
   "source": [
    "def animal_crackers(text):\n",
    "    x= text.lower().split()\n",
    "    \n",
    "    return x[0][0]==x[1][0]"
   ]
  },
  {
   "cell_type": "code",
   "execution_count": 0,
   "metadata": {
    "colab": {
     "base_uri": "https://localhost:8080/",
     "height": 34
    },
    "colab_type": "code",
    "executionInfo": {
     "elapsed": 1968,
     "status": "ok",
     "timestamp": 1590417218347,
     "user": {
      "displayName": "Swati Kar",
      "photoUrl": "https://lh3.googleusercontent.com/a-/AOh14GipCjJ_Toz36oaKm2fXTpDzjwm9bTCh4YjPeFLQ=s64",
      "userId": "09310606185569209733"
     },
     "user_tz": -360
    },
    "id": "x54CsdqNKC2t",
    "outputId": "83cb182d-e602-4d02-e843-03350503fdca"
   },
   "outputs": [
    {
     "data": {
      "text/plain": [
       "True"
      ]
     },
     "execution_count": 28,
     "metadata": {
      "tags": []
     },
     "output_type": "execute_result"
    }
   ],
   "source": [
    "# Check\n",
    "animal_crackers('Levelheaded Llama')"
   ]
  },
  {
   "cell_type": "code",
   "execution_count": 0,
   "metadata": {
    "colab": {
     "base_uri": "https://localhost:8080/",
     "height": 34
    },
    "colab_type": "code",
    "executionInfo": {
     "elapsed": 1118,
     "status": "ok",
     "timestamp": 1590417245081,
     "user": {
      "displayName": "Swati Kar",
      "photoUrl": "https://lh3.googleusercontent.com/a-/AOh14GipCjJ_Toz36oaKm2fXTpDzjwm9bTCh4YjPeFLQ=s64",
      "userId": "09310606185569209733"
     },
     "user_tz": -360
    },
    "id": "IirixdiRKC23",
    "outputId": "ccd983b5-fd9d-4641-e0ad-f04e3ed58c3a"
   },
   "outputs": [
    {
     "data": {
      "text/plain": [
       "False"
      ]
     },
     "execution_count": 31,
     "metadata": {
      "tags": []
     },
     "output_type": "execute_result"
    }
   ],
   "source": [
    "# Check\n",
    "animal_crackers('Crazy kangaro')"
   ]
  },
  {
   "cell_type": "markdown",
   "metadata": {
    "colab_type": "text",
    "id": "ujCrsGyYKC2_"
   },
   "source": [
    "#### MAKES TWENTY: Given two integers, return True if the sum of the integers is 20 *or* if one of the integers is 20. If not, return False\n",
    "\n",
    "    makes_twenty(20,10) --> True\n",
    "    makes_twenty(12,8) --> True\n",
    "    makes_twenty(2,3) --> False"
   ]
  },
  {
   "cell_type": "code",
   "execution_count": 0,
   "metadata": {
    "colab": {},
    "colab_type": "code",
    "id": "HDtbP7KeKC3A"
   },
   "outputs": [],
   "source": [
    "def makes_twenty(n1,n2):\n",
    "  if((n1+n2) == 20):\n",
    "    return True\n",
    "  elif(n1==20 or n2==20):\n",
    "    return True\n",
    "  else:\n",
    "    return False"
   ]
  },
  {
   "cell_type": "code",
   "execution_count": 0,
   "metadata": {
    "colab": {},
    "colab_type": "code",
    "id": "hrpXQ-h_Sk2k"
   },
   "outputs": [],
   "source": [
    "def makes_twenty(n1,n2):\n",
    "  return (n1+n2) == 20 or n1==20 or n2==20"
   ]
  },
  {
   "cell_type": "code",
   "execution_count": 0,
   "metadata": {
    "colab": {
     "base_uri": "https://localhost:8080/",
     "height": 34
    },
    "colab_type": "code",
    "executionInfo": {
     "elapsed": 993,
     "status": "ok",
     "timestamp": 1590417342759,
     "user": {
      "displayName": "Swati Kar",
      "photoUrl": "https://lh3.googleusercontent.com/a-/AOh14GipCjJ_Toz36oaKm2fXTpDzjwm9bTCh4YjPeFLQ=s64",
      "userId": "09310606185569209733"
     },
     "user_tz": -360
    },
    "id": "eXJBu6-AKC3I",
    "outputId": "1b6a6ab4-acdd-4114-95bd-0e31c667aaa8"
   },
   "outputs": [
    {
     "data": {
      "text/plain": [
       "True"
      ]
     },
     "execution_count": 34,
     "metadata": {
      "tags": []
     },
     "output_type": "execute_result"
    }
   ],
   "source": [
    "# Check\n",
    "makes_twenty(20,10)"
   ]
  },
  {
   "cell_type": "code",
   "execution_count": 0,
   "metadata": {
    "colab": {
     "base_uri": "https://localhost:8080/",
     "height": 34
    },
    "colab_type": "code",
    "executionInfo": {
     "elapsed": 1031,
     "status": "ok",
     "timestamp": 1590417260584,
     "user": {
      "displayName": "Swati Kar",
      "photoUrl": "https://lh3.googleusercontent.com/a-/AOh14GipCjJ_Toz36oaKm2fXTpDzjwm9bTCh4YjPeFLQ=s64",
      "userId": "09310606185569209733"
     },
     "user_tz": -360
    },
    "id": "ri-Np8MdKC3O",
    "outputId": "b10dbe10-91e9-4a0c-cd1d-2b557391c0cf"
   },
   "outputs": [
    {
     "data": {
      "text/plain": [
       "False"
      ]
     },
     "execution_count": 32,
     "metadata": {
      "tags": []
     },
     "output_type": "execute_result"
    }
   ],
   "source": [
    "# Check\n",
    "makes_twenty(2,3)"
   ]
  },
  {
   "cell_type": "markdown",
   "metadata": {
    "colab_type": "text",
    "id": "CjhynppXKC3X"
   },
   "source": [
    "# LEVEL 1 PROBLEMS"
   ]
  },
  {
   "cell_type": "markdown",
   "metadata": {
    "colab_type": "text",
    "id": "AwMA2H9yKC3Y"
   },
   "source": [
    "#### OLD MACDONALD: Write a function that capitalizes the first and fourth letters of a name\n",
    "     \n",
    "    old_macdonald('macdonald') --> MacDonald\n",
    "    \n",
    "Note: `'macdonald'.capitalize()` returns `'Macdonald'`"
   ]
  },
  {
   "cell_type": "code",
   "execution_count": 0,
   "metadata": {
    "colab": {},
    "colab_type": "code",
    "id": "YaxScsrIKC3Z"
   },
   "outputs": [],
   "source": [
    "def old_macdonald(name):\n",
    "  x=(name[0]).capitalize()\n",
    "  y=(name[3]).capitalize()\n",
    "  return (x,y)"
   ]
  },
  {
   "cell_type": "code",
   "execution_count": 0,
   "metadata": {
    "colab": {
     "base_uri": "https://localhost:8080/",
     "height": 34
    },
    "colab_type": "code",
    "executionInfo": {
     "elapsed": 1089,
     "status": "ok",
     "timestamp": 1590424982043,
     "user": {
      "displayName": "Swati Kar",
      "photoUrl": "https://lh3.googleusercontent.com/a-/AOh14GipCjJ_Toz36oaKm2fXTpDzjwm9bTCh4YjPeFLQ=s64",
      "userId": "09310606185569209733"
     },
     "user_tz": -360
    },
    "id": "gh2t2eVyKC3g",
    "outputId": "1058ca49-dcf7-4f8d-9a22-56d7491d7801"
   },
   "outputs": [
    {
     "data": {
      "text/plain": [
       "('M', 'D')"
      ]
     },
     "execution_count": 43,
     "metadata": {
      "tags": []
     },
     "output_type": "execute_result"
    }
   ],
   "source": [
    "# Check\n",
    "old_macdonald('macdonald')"
   ]
  },
  {
   "cell_type": "markdown",
   "metadata": {
    "colab_type": "text",
    "id": "NzLB4jwMKC3n"
   },
   "source": [
    "#### MASTER YODA: Given a sentence, return a sentence with the words reversed\n",
    "\n",
    "    master_yoda('I am home') --> 'home am I'\n",
    "    master_yoda('We are ready') --> 'ready are We'\n",
    "    \n",
    "Note: The .join() method may be useful here. The .join() method allows you to join together strings in a list with some connector string. For example, some uses of the .join() method:\n",
    "\n",
    "    >>> \"--\".join(['a','b','c'])\n",
    "    >>> 'a--b--c'\n",
    "\n",
    "This means if you had a list of words you wanted to turn back into a sentence, you could just join them with a single space string:\n",
    "\n",
    "    >>> \" \".join(['Hello','world'])\n",
    "    >>> \"Hello world\""
   ]
  },
  {
   "cell_type": "code",
   "execution_count": 0,
   "metadata": {
    "colab": {},
    "colab_type": "code",
    "id": "7tj3hVTfKC3o"
   },
   "outputs": [],
   "source": [
    "def master_yoda(text):\n",
    "  x=text.split()\n",
    "  x.reverse()\n",
    "  return \" \".join(x)\n",
    "    "
   ]
  },
  {
   "cell_type": "code",
   "execution_count": 0,
   "metadata": {
    "colab": {
     "base_uri": "https://localhost:8080/",
     "height": 34
    },
    "colab_type": "code",
    "executionInfo": {
     "elapsed": 1095,
     "status": "ok",
     "timestamp": 1590426002665,
     "user": {
      "displayName": "Swati Kar",
      "photoUrl": "https://lh3.googleusercontent.com/a-/AOh14GipCjJ_Toz36oaKm2fXTpDzjwm9bTCh4YjPeFLQ=s64",
      "userId": "09310606185569209733"
     },
     "user_tz": -360
    },
    "id": "oeyk_7WEKC3t",
    "outputId": "dd4101da-43d4-4e65-ee1e-27ff94a5016a"
   },
   "outputs": [
    {
     "data": {
      "text/plain": [
       "'home am I'"
      ]
     },
     "execution_count": 69,
     "metadata": {
      "tags": []
     },
     "output_type": "execute_result"
    }
   ],
   "source": [
    "# Check\n",
    "master_yoda('I am home')"
   ]
  },
  {
   "cell_type": "code",
   "execution_count": 0,
   "metadata": {
    "colab": {
     "base_uri": "https://localhost:8080/",
     "height": 34
    },
    "colab_type": "code",
    "executionInfo": {
     "elapsed": 1164,
     "status": "ok",
     "timestamp": 1590425883928,
     "user": {
      "displayName": "Swati Kar",
      "photoUrl": "https://lh3.googleusercontent.com/a-/AOh14GipCjJ_Toz36oaKm2fXTpDzjwm9bTCh4YjPeFLQ=s64",
      "userId": "09310606185569209733"
     },
     "user_tz": -360
    },
    "id": "F14I5TjuKC30",
    "outputId": "6d036ab9-f06c-4af6-a5b3-a2459cfafac7"
   },
   "outputs": [
    {
     "data": {
      "text/plain": [
       "'ready are We'"
      ]
     },
     "execution_count": 65,
     "metadata": {
      "tags": []
     },
     "output_type": "execute_result"
    }
   ],
   "source": [
    "# Check\n",
    "master_yoda('We are ready')"
   ]
  },
  {
   "cell_type": "markdown",
   "metadata": {
    "colab_type": "text",
    "id": "yZX_t6aoKC36"
   },
   "source": [
    "#### ALMOST THERE: Given an integer n, return True if n is within 10 of either 100 or 200\n",
    "\n",
    "    almost_there(90) --> True\n",
    "    almost_there(104) --> True\n",
    "    almost_there(150) --> False\n",
    "    almost_there(209) --> True\n",
    "    \n",
    "NOTE: `abs(num)` returns the absolute value of a number"
   ]
  },
  {
   "cell_type": "code",
   "execution_count": 0,
   "metadata": {
    "colab": {},
    "colab_type": "code",
    "id": "oCyGxfPuKC38"
   },
   "outputs": [],
   "source": [
    "def almost_there(n):\n",
    "    if (90<=n<=110):\n",
    "      return True\n",
    "    elif(190<=n<=210):\n",
    "      return True\n",
    "    else:\n",
    "      return False"
   ]
  },
  {
   "cell_type": "code",
   "execution_count": 0,
   "metadata": {
    "colab": {
     "base_uri": "https://localhost:8080/",
     "height": 34
    },
    "colab_type": "code",
    "executionInfo": {
     "elapsed": 1247,
     "status": "ok",
     "timestamp": 1590426325942,
     "user": {
      "displayName": "Swati Kar",
      "photoUrl": "https://lh3.googleusercontent.com/a-/AOh14GipCjJ_Toz36oaKm2fXTpDzjwm9bTCh4YjPeFLQ=s64",
      "userId": "09310606185569209733"
     },
     "user_tz": -360
    },
    "id": "FX6H9ZiqKC4B",
    "outputId": "2acb9bd5-502e-4d06-8104-edf6fdc831a3"
   },
   "outputs": [
    {
     "data": {
      "text/plain": [
       "True"
      ]
     },
     "execution_count": 71,
     "metadata": {
      "tags": []
     },
     "output_type": "execute_result"
    }
   ],
   "source": [
    "# Check\n",
    "almost_there(104)"
   ]
  },
  {
   "cell_type": "code",
   "execution_count": 0,
   "metadata": {
    "colab": {
     "base_uri": "https://localhost:8080/",
     "height": 34
    },
    "colab_type": "code",
    "executionInfo": {
     "elapsed": 1474,
     "status": "ok",
     "timestamp": 1590426357559,
     "user": {
      "displayName": "Swati Kar",
      "photoUrl": "https://lh3.googleusercontent.com/a-/AOh14GipCjJ_Toz36oaKm2fXTpDzjwm9bTCh4YjPeFLQ=s64",
      "userId": "09310606185569209733"
     },
     "user_tz": -360
    },
    "id": "1m5d2kvzKC4I",
    "outputId": "cd946d5c-cca9-41ad-e2d7-9187bb0cd5b7"
   },
   "outputs": [
    {
     "data": {
      "text/plain": [
       "False"
      ]
     },
     "execution_count": 75,
     "metadata": {
      "tags": []
     },
     "output_type": "execute_result"
    }
   ],
   "source": [
    "# Check\n",
    "almost_there(150)"
   ]
  },
  {
   "cell_type": "code",
   "execution_count": 0,
   "metadata": {
    "colab": {
     "base_uri": "https://localhost:8080/",
     "height": 34
    },
    "colab_type": "code",
    "executionInfo": {
     "elapsed": 1065,
     "status": "ok",
     "timestamp": 1590426335375,
     "user": {
      "displayName": "Swati Kar",
      "photoUrl": "https://lh3.googleusercontent.com/a-/AOh14GipCjJ_Toz36oaKm2fXTpDzjwm9bTCh4YjPeFLQ=s64",
      "userId": "09310606185569209733"
     },
     "user_tz": -360
    },
    "id": "7meLlfkBKC4M",
    "outputId": "d9945628-9dce-490a-d66a-559974b0a62f"
   },
   "outputs": [
    {
     "data": {
      "text/plain": [
       "True"
      ]
     },
     "execution_count": 73,
     "metadata": {
      "tags": []
     },
     "output_type": "execute_result"
    }
   ],
   "source": [
    "# Check\n",
    "almost_there(209)"
   ]
  },
  {
   "cell_type": "markdown",
   "metadata": {
    "colab_type": "text",
    "id": "WurbHqJnKC4Q"
   },
   "source": [
    "# LEVEL 2 PROBLEMS"
   ]
  },
  {
   "cell_type": "markdown",
   "metadata": {
    "colab_type": "text",
    "id": "WhrdCEfEKC4R"
   },
   "source": [
    "#### FIND 33: \n",
    "\n",
    "Given a list of ints, return True if the array contains a 3 next to a 3 somewhere.\n",
    "\n",
    "    has_33([1, 3, 3]) → True\n",
    "    has_33([1, 3, 1, 3]) → False\n",
    "    has_33([3, 1, 3]) → False"
   ]
  },
  {
   "cell_type": "code",
   "execution_count": 0,
   "metadata": {
    "colab": {},
    "colab_type": "code",
    "id": "yW6XIDY1KC4S"
   },
   "outputs": [],
   "source": [
    "def has_33(nums):\n",
    "  pos = 0\n",
    "  \n",
    "  for num in nums:\n",
    "    if (num == 3):\n",
    "      if (nums[pos+1]==3):\n",
    "        return True\n",
    "      else:\n",
    "        return False\n",
    "    else:\n",
    "      continue\n",
    "    pos += 1\n"
   ]
  },
  {
   "cell_type": "code",
   "execution_count": 0,
   "metadata": {
    "colab": {
     "base_uri": "https://localhost:8080/",
     "height": 34
    },
    "colab_type": "code",
    "executionInfo": {
     "elapsed": 1082,
     "status": "ok",
     "timestamp": 1590427955593,
     "user": {
      "displayName": "Swati Kar",
      "photoUrl": "https://lh3.googleusercontent.com/a-/AOh14GipCjJ_Toz36oaKm2fXTpDzjwm9bTCh4YjPeFLQ=s64",
      "userId": "09310606185569209733"
     },
     "user_tz": -360
    },
    "id": "RyqUq_VuKC4W",
    "outputId": "0adbbf2b-3cb7-49f5-9090-157e177231e1"
   },
   "outputs": [
    {
     "data": {
      "text/plain": [
       "True"
      ]
     },
     "execution_count": 94,
     "metadata": {
      "tags": []
     },
     "output_type": "execute_result"
    }
   ],
   "source": [
    "# Check\n",
    "has_33([1, 3, 3])"
   ]
  },
  {
   "cell_type": "code",
   "execution_count": 0,
   "metadata": {
    "colab": {
     "base_uri": "https://localhost:8080/",
     "height": 34
    },
    "colab_type": "code",
    "executionInfo": {
     "elapsed": 1284,
     "status": "ok",
     "timestamp": 1590427608883,
     "user": {
      "displayName": "Swati Kar",
      "photoUrl": "https://lh3.googleusercontent.com/a-/AOh14GipCjJ_Toz36oaKm2fXTpDzjwm9bTCh4YjPeFLQ=s64",
      "userId": "09310606185569209733"
     },
     "user_tz": -360
    },
    "id": "8vGkjB9aKC4b",
    "outputId": "43aab769-3910-4c32-d871-990368189ee5"
   },
   "outputs": [
    {
     "data": {
      "text/plain": [
       "False"
      ]
     },
     "execution_count": 89,
     "metadata": {
      "tags": []
     },
     "output_type": "execute_result"
    }
   ],
   "source": [
    "# Check\n",
    "has_33([1, 3, 1, 3])"
   ]
  },
  {
   "cell_type": "code",
   "execution_count": 0,
   "metadata": {
    "colab": {
     "base_uri": "https://localhost:8080/",
     "height": 34
    },
    "colab_type": "code",
    "executionInfo": {
     "elapsed": 1071,
     "status": "ok",
     "timestamp": 1590427616474,
     "user": {
      "displayName": "Swati Kar",
      "photoUrl": "https://lh3.googleusercontent.com/a-/AOh14GipCjJ_Toz36oaKm2fXTpDzjwm9bTCh4YjPeFLQ=s64",
      "userId": "09310606185569209733"
     },
     "user_tz": -360
    },
    "id": "snt6azUPKC4g",
    "outputId": "7828f429-ad48-40e4-90c0-8e85bf7a9434"
   },
   "outputs": [
    {
     "data": {
      "text/plain": [
       "False"
      ]
     },
     "execution_count": 90,
     "metadata": {
      "tags": []
     },
     "output_type": "execute_result"
    }
   ],
   "source": [
    "# Check\n",
    "has_33([3, 1, 3])"
   ]
  },
  {
   "cell_type": "code",
   "execution_count": 0,
   "metadata": {
    "colab": {
     "base_uri": "https://localhost:8080/",
     "height": 34
    },
    "colab_type": "code",
    "executionInfo": {
     "elapsed": 1409,
     "status": "ok",
     "timestamp": 1590428523865,
     "user": {
      "displayName": "Swati Kar",
      "photoUrl": "https://lh3.googleusercontent.com/a-/AOh14GipCjJ_Toz36oaKm2fXTpDzjwm9bTCh4YjPeFLQ=s64",
      "userId": "09310606185569209733"
     },
     "user_tz": -360
    },
    "id": "gNf6nleB69Rh",
    "outputId": "28168422-a665-4442-b898-23ef847663d2"
   },
   "outputs": [
    {
     "name": "stdout",
     "output_type": "stream",
     "text": [
      "False\n"
     ]
    }
   ],
   "source": [
    "x=[1,3,1,3]\n",
    "x=[str(i) for i in x]\n",
    "y=\"\".join(x)\n",
    "print('33' in y)"
   ]
  },
  {
   "cell_type": "markdown",
   "metadata": {
    "colab_type": "text",
    "id": "fTaXIpAyKC4k"
   },
   "source": [
    "#### PAPER DOLL: Given a string, return a string where for every character in the original there are three characters\n",
    "    paper_doll('Hello') --> 'HHHeeellllllooo'\n",
    "    paper_doll('Mississippi') --> 'MMMiiissssssiiippppppiii'"
   ]
  },
  {
   "cell_type": "code",
   "execution_count": 0,
   "metadata": {
    "colab": {},
    "colab_type": "code",
    "id": "3cA81VieKC4l"
   },
   "outputs": [],
   "source": [
    "def paper_doll(text):\n",
    "  # pos = 0\n",
    "  str1 =\"\"\n",
    "  for letter in text:\n",
    "\n",
    "    # print(letter)\n",
    "    str1 += letter*3\n",
    "    # print(str(str1))\n",
    "  return str1"
   ]
  },
  {
   "cell_type": "code",
   "execution_count": 2,
   "metadata": {
    "colab": {
     "base_uri": "https://localhost:8080/",
     "height": 34
    },
    "colab_type": "code",
    "executionInfo": {
     "elapsed": 2416,
     "status": "ok",
     "timestamp": 1590750230675,
     "user": {
      "displayName": "Swati Kar",
      "photoUrl": "https://lh3.googleusercontent.com/a-/AOh14GipCjJ_Toz36oaKm2fXTpDzjwm9bTCh4YjPeFLQ=s64",
      "userId": "09310606185569209733"
     },
     "user_tz": -360
    },
    "id": "1_2SBfgIKC4p",
    "outputId": "eb8d19db-9b67-43fb-f645-322e738c3c0e"
   },
   "outputs": [
    {
     "data": {
      "text/plain": [
       "'HHHeeellllllooo'"
      ]
     },
     "execution_count": 2,
     "metadata": {
      "tags": []
     },
     "output_type": "execute_result"
    }
   ],
   "source": [
    "# Check\n",
    "paper_doll('Hello')"
   ]
  },
  {
   "cell_type": "code",
   "execution_count": 3,
   "metadata": {
    "colab": {
     "base_uri": "https://localhost:8080/",
     "height": 34
    },
    "colab_type": "code",
    "executionInfo": {
     "elapsed": 1380,
     "status": "ok",
     "timestamp": 1590750234769,
     "user": {
      "displayName": "Swati Kar",
      "photoUrl": "https://lh3.googleusercontent.com/a-/AOh14GipCjJ_Toz36oaKm2fXTpDzjwm9bTCh4YjPeFLQ=s64",
      "userId": "09310606185569209733"
     },
     "user_tz": -360
    },
    "id": "bWjrWFD6KC4s",
    "outputId": "1e7d0501-67a9-4a65-bf81-d58418bbaa96"
   },
   "outputs": [
    {
     "data": {
      "text/plain": [
       "'MMMiiissssssiiissssssiiippppppiii'"
      ]
     },
     "execution_count": 3,
     "metadata": {
      "tags": []
     },
     "output_type": "execute_result"
    }
   ],
   "source": [
    "# Check\n",
    "paper_doll('Mississippi')"
   ]
  },
  {
   "cell_type": "markdown",
   "metadata": {
    "colab_type": "text",
    "id": "qHf1sPmsKC4z"
   },
   "source": [
    "#### BLACKJACK: Given three integers between 1 and 11, if their sum is less than or equal to 21, return their sum. If their sum exceeds 21 *and* there's an eleven, reduce the total sum by 10. Finally, if the sum (even after adjustment) exceeds 21, return 'BUST'\n",
    "    blackjack(5,6,7) --> 18\n",
    "    blackjack(9,9,9) --> 'BUST'\n",
    "    blackjack(9,9,11) --> 19"
   ]
  },
  {
   "cell_type": "code",
   "execution_count": 0,
   "metadata": {
    "colab": {},
    "colab_type": "code",
    "id": "NP9nA5iuKC4z"
   },
   "outputs": [],
   "source": [
    "def blackjack(a,b,c):\n",
    "  sum1 = a+b+c\n",
    "  if (sum1<=21):\n",
    "    return sum1\n",
    "  elif(sum1>21 and 11 in(a,b,c)):\n",
    "    return sum1-10\n",
    "  else:\n",
    "    return 'BUST'"
   ]
  },
  {
   "cell_type": "code",
   "execution_count": 0,
   "metadata": {
    "colab": {
     "base_uri": "https://localhost:8080/",
     "height": 34
    },
    "colab_type": "code",
    "executionInfo": {
     "elapsed": 1062,
     "status": "ok",
     "timestamp": 1590491802260,
     "user": {
      "displayName": "Swati Kar",
      "photoUrl": "https://lh3.googleusercontent.com/a-/AOh14GipCjJ_Toz36oaKm2fXTpDzjwm9bTCh4YjPeFLQ=s64",
      "userId": "09310606185569209733"
     },
     "user_tz": -360
    },
    "id": "pAuBKdnKKC44",
    "outputId": "1f597e44-6cc8-4ae1-e2a7-2d247df66d8c"
   },
   "outputs": [
    {
     "data": {
      "text/plain": [
       "18"
      ]
     },
     "execution_count": 18,
     "metadata": {
      "tags": []
     },
     "output_type": "execute_result"
    }
   ],
   "source": [
    "# Check\n",
    "blackjack(5,6,7)"
   ]
  },
  {
   "cell_type": "code",
   "execution_count": 0,
   "metadata": {
    "colab": {
     "base_uri": "https://localhost:8080/",
     "height": 34
    },
    "colab_type": "code",
    "executionInfo": {
     "elapsed": 1075,
     "status": "ok",
     "timestamp": 1590491806915,
     "user": {
      "displayName": "Swati Kar",
      "photoUrl": "https://lh3.googleusercontent.com/a-/AOh14GipCjJ_Toz36oaKm2fXTpDzjwm9bTCh4YjPeFLQ=s64",
      "userId": "09310606185569209733"
     },
     "user_tz": -360
    },
    "id": "sBjh0udLKC48",
    "outputId": "891a896e-a409-4b2f-e6ed-e4d738a050b2"
   },
   "outputs": [
    {
     "data": {
      "text/plain": [
       "'BUST'"
      ]
     },
     "execution_count": 19,
     "metadata": {
      "tags": []
     },
     "output_type": "execute_result"
    }
   ],
   "source": [
    "# Check\n",
    "blackjack(9,9,9)"
   ]
  },
  {
   "cell_type": "code",
   "execution_count": 0,
   "metadata": {
    "colab": {
     "base_uri": "https://localhost:8080/",
     "height": 34
    },
    "colab_type": "code",
    "executionInfo": {
     "elapsed": 1135,
     "status": "ok",
     "timestamp": 1590491814768,
     "user": {
      "displayName": "Swati Kar",
      "photoUrl": "https://lh3.googleusercontent.com/a-/AOh14GipCjJ_Toz36oaKm2fXTpDzjwm9bTCh4YjPeFLQ=s64",
      "userId": "09310606185569209733"
     },
     "user_tz": -360
    },
    "id": "QocLTZnNKC5A",
    "outputId": "b392f9bd-57b7-41ef-fa6e-0965d8874db9"
   },
   "outputs": [
    {
     "data": {
      "text/plain": [
       "19"
      ]
     },
     "execution_count": 20,
     "metadata": {
      "tags": []
     },
     "output_type": "execute_result"
    }
   ],
   "source": [
    "# Check\n",
    "blackjack(9,9,11)"
   ]
  },
  {
   "cell_type": "markdown",
   "metadata": {
    "colab_type": "text",
    "id": "rbitPbYSKC5D"
   },
   "source": [
    "#### SUMMER OF '69: Return the sum of the numbers in the array, except ignore sections of numbers starting with a 6 and extending to the next 9 (every 6 will be followed by at least one 9). Return 0 for no numbers.\n",
    " \n",
    "    summer_69([1, 3, 5]) --> 9\n",
    "    summer_69([4, 5, 6, 7, 8, 9]) --> 9\n",
    "    summer_69([2, 1, 6, 9, 11]) --> 14"
   ]
  },
  {
   "cell_type": "code",
   "execution_count": 0,
   "metadata": {
    "colab": {},
    "colab_type": "code",
    "id": "F5PoIHHcKC5E"
   },
   "outputs": [],
   "source": [
    "def summer_69(arr):\n",
    "  sum = 0\n",
    "  for number in arr:\n",
    "    if (number in range(6,10)):\n",
    "      continue\n",
    "    else:\n",
    "      sum =sum+number\n",
    "  return sum\n",
    "      "
   ]
  },
  {
   "cell_type": "code",
   "execution_count": 0,
   "metadata": {
    "colab": {
     "base_uri": "https://localhost:8080/",
     "height": 34
    },
    "colab_type": "code",
    "executionInfo": {
     "elapsed": 1156,
     "status": "ok",
     "timestamp": 1590493045494,
     "user": {
      "displayName": "Swati Kar",
      "photoUrl": "https://lh3.googleusercontent.com/a-/AOh14GipCjJ_Toz36oaKm2fXTpDzjwm9bTCh4YjPeFLQ=s64",
      "userId": "09310606185569209733"
     },
     "user_tz": -360
    },
    "id": "av6jiQ-DKC5I",
    "outputId": "e276eb09-b61f-4513-efb2-97ab1632b547"
   },
   "outputs": [
    {
     "data": {
      "text/plain": [
       "9"
      ]
     },
     "execution_count": 33,
     "metadata": {
      "tags": []
     },
     "output_type": "execute_result"
    }
   ],
   "source": [
    "# Check\n",
    "summer_69([1, 3, 5])"
   ]
  },
  {
   "cell_type": "code",
   "execution_count": 0,
   "metadata": {
    "colab": {
     "base_uri": "https://localhost:8080/",
     "height": 34
    },
    "colab_type": "code",
    "executionInfo": {
     "elapsed": 1072,
     "status": "ok",
     "timestamp": 1590493054191,
     "user": {
      "displayName": "Swati Kar",
      "photoUrl": "https://lh3.googleusercontent.com/a-/AOh14GipCjJ_Toz36oaKm2fXTpDzjwm9bTCh4YjPeFLQ=s64",
      "userId": "09310606185569209733"
     },
     "user_tz": -360
    },
    "id": "ud8qjf-1KC5S",
    "outputId": "b25a9d7d-dccf-4f37-8a62-43cdd7d9d80f"
   },
   "outputs": [
    {
     "data": {
      "text/plain": [
       "9"
      ]
     },
     "execution_count": 34,
     "metadata": {
      "tags": []
     },
     "output_type": "execute_result"
    }
   ],
   "source": [
    "# Check\n",
    "summer_69([4, 5, 6, 7, 8, 9])"
   ]
  },
  {
   "cell_type": "code",
   "execution_count": 0,
   "metadata": {
    "colab": {
     "base_uri": "https://localhost:8080/",
     "height": 34
    },
    "colab_type": "code",
    "executionInfo": {
     "elapsed": 1025,
     "status": "ok",
     "timestamp": 1590493061409,
     "user": {
      "displayName": "Swati Kar",
      "photoUrl": "https://lh3.googleusercontent.com/a-/AOh14GipCjJ_Toz36oaKm2fXTpDzjwm9bTCh4YjPeFLQ=s64",
      "userId": "09310606185569209733"
     },
     "user_tz": -360
    },
    "id": "LTSeHTR9KC5V",
    "outputId": "fc8ec3aa-c365-4f8b-e46f-1f4290fdd06d"
   },
   "outputs": [
    {
     "data": {
      "text/plain": [
       "14"
      ]
     },
     "execution_count": 35,
     "metadata": {
      "tags": []
     },
     "output_type": "execute_result"
    }
   ],
   "source": [
    "# Check\n",
    "summer_69([2, 1, 6, 9, 11])"
   ]
  },
  {
   "cell_type": "markdown",
   "metadata": {
    "colab_type": "text",
    "id": "oOKxo1UQKC5a"
   },
   "source": [
    "# CHALLENGING PROBLEMS"
   ]
  },
  {
   "cell_type": "markdown",
   "metadata": {
    "colab_type": "text",
    "id": "pWcvLwIGKC5b"
   },
   "source": [
    "#### SPY GAME: Write a function that takes in a list of integers and returns True if it contains 007 in order\n",
    "\n",
    "     spy_game([1,2,4,0,0,7,5]) --> True\n",
    "     spy_game([1,0,2,4,0,5,7]) --> True\n",
    "     spy_game([1,7,2,0,4,5,0]) --> False\n"
   ]
  },
  {
   "cell_type": "code",
   "execution_count": 0,
   "metadata": {
    "colab": {},
    "colab_type": "code",
    "id": "UMKKnivZKC5b"
   },
   "outputs": [],
   "source": [
    "def spy_game(nums):\n",
    "  pos= 0\n",
    "  for num in nums:\n",
    "    pos += 1\n",
    "    if(num==0):\n",
    "      # print(nums[pos:])\n",
    "      pos2 = pos\n",
    "      for num2 in nums[pos:]:\n",
    "        pos2 += 1\n",
    "        print(num2)\n",
    "        if(num2==0):\n",
    "          for num3 in nums[pos2:]:\n",
    "            if(num3==7):\n",
    "              return True\n",
    "            else:\n",
    "              continue\n",
    "\n",
    "  return False\n"
   ]
  },
  {
   "cell_type": "code",
   "execution_count": 0,
   "metadata": {
    "colab": {
     "base_uri": "https://localhost:8080/",
     "height": 51
    },
    "colab_type": "code",
    "executionInfo": {
     "elapsed": 1316,
     "status": "ok",
     "timestamp": 1590510179072,
     "user": {
      "displayName": "Swati Kar",
      "photoUrl": "https://lh3.googleusercontent.com/a-/AOh14GipCjJ_Toz36oaKm2fXTpDzjwm9bTCh4YjPeFLQ=s64",
      "userId": "09310606185569209733"
     },
     "user_tz": -360
    },
    "id": "38cqm97lKC5g",
    "outputId": "a4cfc5e9-ef07-4353-a730-116e69b2631a"
   },
   "outputs": [
    {
     "name": "stdout",
     "output_type": "stream",
     "text": [
      "0\n"
     ]
    },
    {
     "data": {
      "text/plain": [
       "True"
      ]
     },
     "execution_count": 14,
     "metadata": {
      "tags": []
     },
     "output_type": "execute_result"
    }
   ],
   "source": [
    "# Check\n",
    "spy_game([1,2,4,0,0,7,5])"
   ]
  },
  {
   "cell_type": "code",
   "execution_count": 0,
   "metadata": {
    "colab": {
     "base_uri": "https://localhost:8080/",
     "height": 85
    },
    "colab_type": "code",
    "executionInfo": {
     "elapsed": 1343,
     "status": "ok",
     "timestamp": 1590510186179,
     "user": {
      "displayName": "Swati Kar",
      "photoUrl": "https://lh3.googleusercontent.com/a-/AOh14GipCjJ_Toz36oaKm2fXTpDzjwm9bTCh4YjPeFLQ=s64",
      "userId": "09310606185569209733"
     },
     "user_tz": -360
    },
    "id": "OTIv8JMHKC5l",
    "outputId": "2e91234e-c2c8-4651-c4ab-42feaf00db7a"
   },
   "outputs": [
    {
     "name": "stdout",
     "output_type": "stream",
     "text": [
      "2\n",
      "4\n",
      "0\n"
     ]
    },
    {
     "data": {
      "text/plain": [
       "True"
      ]
     },
     "execution_count": 15,
     "metadata": {
      "tags": []
     },
     "output_type": "execute_result"
    }
   ],
   "source": [
    "# Check\n",
    "spy_game([1,0,2,4,0,5,7])"
   ]
  },
  {
   "cell_type": "code",
   "execution_count": 0,
   "metadata": {
    "colab": {
     "base_uri": "https://localhost:8080/",
     "height": 85
    },
    "colab_type": "code",
    "executionInfo": {
     "elapsed": 1417,
     "status": "ok",
     "timestamp": 1590510196415,
     "user": {
      "displayName": "Swati Kar",
      "photoUrl": "https://lh3.googleusercontent.com/a-/AOh14GipCjJ_Toz36oaKm2fXTpDzjwm9bTCh4YjPeFLQ=s64",
      "userId": "09310606185569209733"
     },
     "user_tz": -360
    },
    "id": "8AKFxY7GKC5p",
    "outputId": "56d753da-549f-45f5-e19a-7d9cfe9e3e49"
   },
   "outputs": [
    {
     "name": "stdout",
     "output_type": "stream",
     "text": [
      "4\n",
      "5\n",
      "0\n"
     ]
    },
    {
     "data": {
      "text/plain": [
       "False"
      ]
     },
     "execution_count": 16,
     "metadata": {
      "tags": []
     },
     "output_type": "execute_result"
    }
   ],
   "source": [
    "# Check\n",
    "spy_game([1,7,2,0,4,5,0])"
   ]
  },
  {
   "cell_type": "markdown",
   "metadata": {
    "colab_type": "text",
    "id": "uFVAWBv2KC5x"
   },
   "source": [
    "#### COUNT PRIMES: Write a function that returns the *number* of prime numbers that exist up to and including a given number\n",
    "    count_primes(100) --> 25\n",
    "\n",
    "By convention, 0 and 1 are not prime."
   ]
  },
  {
   "cell_type": "code",
   "execution_count": 0,
   "metadata": {
    "colab": {},
    "colab_type": "code",
    "id": "P7huYpY0KC5y"
   },
   "outputs": [],
   "source": [
    "def prime_check(nums):\n",
    "  for num in range(2,nums):\n",
    "    # print(num)\n",
    "    if (nums%num == 0):\n",
    "      return False\n",
    "    # else:\n",
    "    #   continue\n",
    "  return True\n",
    "\n",
    "def count_primes(num):\n",
    "  count = 0\n",
    "  for i in range(2,num):\n",
    "    prime = prime_check(i)\n",
    "    # print(i)\n",
    "    if(prime == True):\n",
    "      count += 1\n",
    "      print(i)\n",
    "  return count\n",
    "    \n",
    "    \n",
    "                "
   ]
  },
  {
   "cell_type": "code",
   "execution_count": 0,
   "metadata": {
    "colab": {
     "base_uri": "https://localhost:8080/",
     "height": 51
    },
    "colab_type": "code",
    "executionInfo": {
     "elapsed": 1345,
     "status": "ok",
     "timestamp": 1590511073227,
     "user": {
      "displayName": "Swati Kar",
      "photoUrl": "https://lh3.googleusercontent.com/a-/AOh14GipCjJ_Toz36oaKm2fXTpDzjwm9bTCh4YjPeFLQ=s64",
      "userId": "09310606185569209733"
     },
     "user_tz": -360
    },
    "id": "Ux5uLH_31n4U",
    "outputId": "8b47c8c6-0462-435f-dc95-55459692c8ae"
   },
   "outputs": [
    {
     "name": "stdout",
     "output_type": "stream",
     "text": [
      "2\n"
     ]
    },
    {
     "data": {
      "text/plain": [
       "False"
      ]
     },
     "execution_count": 27,
     "metadata": {
      "tags": []
     },
     "output_type": "execute_result"
    }
   ],
   "source": [
    "prime_check(20)"
   ]
  },
  {
   "cell_type": "code",
   "execution_count": 0,
   "metadata": {
    "colab": {
     "base_uri": "https://localhost:8080/",
     "height": 459
    },
    "colab_type": "code",
    "executionInfo": {
     "elapsed": 1400,
     "status": "ok",
     "timestamp": 1590511915431,
     "user": {
      "displayName": "Swati Kar",
      "photoUrl": "https://lh3.googleusercontent.com/a-/AOh14GipCjJ_Toz36oaKm2fXTpDzjwm9bTCh4YjPeFLQ=s64",
      "userId": "09310606185569209733"
     },
     "user_tz": -360
    },
    "id": "9s9du0DsKC57",
    "outputId": "213410f6-f7b7-4c96-c49c-1c426ef11af1"
   },
   "outputs": [
    {
     "name": "stdout",
     "output_type": "stream",
     "text": [
      "2\n",
      "3\n",
      "5\n",
      "7\n",
      "11\n",
      "13\n",
      "17\n",
      "19\n",
      "23\n",
      "29\n",
      "31\n",
      "37\n",
      "41\n",
      "43\n",
      "47\n",
      "53\n",
      "59\n",
      "61\n",
      "67\n",
      "71\n",
      "73\n",
      "79\n",
      "83\n",
      "89\n",
      "97\n"
     ]
    },
    {
     "data": {
      "text/plain": [
       "25"
      ]
     },
     "execution_count": 40,
     "metadata": {
      "tags": []
     },
     "output_type": "execute_result"
    }
   ],
   "source": [
    "# Check\n",
    "count_primes(100)"
   ]
  },
  {
   "cell_type": "markdown",
   "metadata": {
    "colab_type": "text",
    "id": "Luma9K3JKC6A"
   },
   "source": [
    "### Just for fun:\n",
    "#### PRINT BIG: Write a function that takes in a single letter, and returns a 5x5 representation of that letter\n",
    "    print_big('a')\n",
    "    \n",
    "    out:   *  \n",
    "          * *\n",
    "         *****\n",
    "         *   *\n",
    "         *   *\n",
    "HINT: Consider making a dictionary of possible patterns, and mapping the alphabet to specific 5-line combinations of patterns. <br>For purposes of this exercise, it's ok if your dictionary stops at \"E\"."
   ]
  },
  {
   "cell_type": "code",
   "execution_count": 0,
   "metadata": {
    "colab": {
     "base_uri": "https://localhost:8080/",
     "height": 102
    },
    "colab_type": "code",
    "executionInfo": {
     "elapsed": 1326,
     "status": "ok",
     "timestamp": 1590512316766,
     "user": {
      "displayName": "Swati Kar",
      "photoUrl": "https://lh3.googleusercontent.com/a-/AOh14GipCjJ_Toz36oaKm2fXTpDzjwm9bTCh4YjPeFLQ=s64",
      "userId": "09310606185569209733"
     },
     "user_tz": -360
    },
    "id": "pPjNgb3qKC6B",
    "outputId": "3746ada1-3988-41a1-afdd-379b947c7732"
   },
   "outputs": [
    {
     "name": "stdout",
     "output_type": "stream",
     "text": [
      "  * \n",
      " * *\n",
      "*****\n",
      "*   *\n",
      "*   *\n"
     ]
    }
   ],
   "source": [
    "alphabet = {\n",
    "    'a' : '  * \\n * *\\n*****\\n*   *\\n*   *'\n",
    "}\n",
    "def print_big(letter):\n",
    "    pass\n",
    "print(alphabet['a'])"
   ]
  },
  {
   "cell_type": "code",
   "execution_count": 0,
   "metadata": {
    "colab": {},
    "colab_type": "code",
    "id": "OG2qCc9kKC6E"
   },
   "outputs": [],
   "source": [
    "print_big('a')"
   ]
  },
  {
   "cell_type": "markdown",
   "metadata": {
    "colab_type": "text",
    "id": "v5dPyywRKC6H"
   },
   "source": [
    "## Great Job!"
   ]
  }
 ],
 "metadata": {
  "colab": {
   "collapsed_sections": [
    "AwMA2H9yKC3Y"
   ],
   "name": "03-Function Practice Exercises.ipynb",
   "provenance": []
  },
  "kernelspec": {
   "display_name": "Python 3",
   "language": "python",
   "name": "python3"
  },
  "language_info": {
   "codemirror_mode": {
    "name": "ipython",
    "version": 3
   },
   "file_extension": ".py",
   "mimetype": "text/x-python",
   "name": "python",
   "nbconvert_exporter": "python",
   "pygments_lexer": "ipython3",
   "version": "3.7.6"
  }
 },
 "nbformat": 4,
 "nbformat_minor": 1
}
