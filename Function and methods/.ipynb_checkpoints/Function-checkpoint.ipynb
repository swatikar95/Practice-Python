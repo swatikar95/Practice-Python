{
 "cells": [
  {
   "cell_type": "markdown",
   "metadata": {
    "colab_type": "text",
    "id": "LkaTyOugPkKN"
   },
   "source": [
    "###Function: it allows to create blocks of code that can easily executed many times, without rewrite the entire block of code"
   ]
  },
  {
   "cell_type": "code",
   "execution_count": 0,
   "metadata": {
    "colab": {
     "base_uri": "https://localhost:8080/",
     "height": 34
    },
    "colab_type": "code",
    "executionInfo": {
     "elapsed": 1478,
     "status": "ok",
     "timestamp": 1590333505076,
     "user": {
      "displayName": "Swati Kar",
      "photoUrl": "https://lh3.googleusercontent.com/a-/AOh14GipCjJ_Toz36oaKm2fXTpDzjwm9bTCh4YjPeFLQ=s64",
      "userId": "09310606185569209733"
     },
     "user_tz": -360
    },
    "id": "FBj_GMcrQEBa",
    "outputId": "5ca65cee-7dc8-434e-c5c7-ce31193ddfb7"
   },
   "outputs": [
    {
     "name": "stdout",
     "output_type": "stream",
     "text": [
      "Hello Swati\n"
     ]
    }
   ],
   "source": [
    "def function_name(name):\n",
    "  print(\"Hello \"+name)\n",
    "function_name('Swati')"
   ]
  },
  {
   "cell_type": "code",
   "execution_count": 0,
   "metadata": {
    "colab": {
     "base_uri": "https://localhost:8080/",
     "height": 34
    },
    "colab_type": "code",
    "executionInfo": {
     "elapsed": 1807,
     "status": "ok",
     "timestamp": 1590333649189,
     "user": {
      "displayName": "Swati Kar",
      "photoUrl": "https://lh3.googleusercontent.com/a-/AOh14GipCjJ_Toz36oaKm2fXTpDzjwm9bTCh4YjPeFLQ=s64",
      "userId": "09310606185569209733"
     },
     "user_tz": -360
    },
    "id": "OASwXk-bRMVC",
    "outputId": "e40ac1f8-9ec6-4558-a1df-2cd26962d1d0"
   },
   "outputs": [
    {
     "data": {
      "text/plain": [
       "8"
      ]
     },
     "execution_count": 5,
     "metadata": {
      "tags": []
     },
     "output_type": "execute_result"
    }
   ],
   "source": [
    "def add_func(num1,num2):\n",
    "  return num1+num2\n",
    "\n",
    "add_func(3,5)"
   ]
  },
  {
   "cell_type": "code",
   "execution_count": 0,
   "metadata": {
    "colab": {},
    "colab_type": "code",
    "id": "e3uwb134R8Fg"
   },
   "outputs": [],
   "source": [
    "#function documentation\n",
    "def name_func():\n",
    "  '''\n",
    "  DOCSTRING: Information about the function\n",
    "  INPUT: No Input\n",
    "  OUTPUT: Hello\n",
    "  '''\n",
    "  Print('Hello')"
   ]
  },
  {
   "cell_type": "code",
   "execution_count": 0,
   "metadata": {
    "colab": {
     "base_uri": "https://localhost:8080/",
     "height": 141
    },
    "colab_type": "code",
    "executionInfo": {
     "elapsed": 1696,
     "status": "ok",
     "timestamp": 1590333925956,
     "user": {
      "displayName": "Swati Kar",
      "photoUrl": "https://lh3.googleusercontent.com/a-/AOh14GipCjJ_Toz36oaKm2fXTpDzjwm9bTCh4YjPeFLQ=s64",
      "userId": "09310606185569209733"
     },
     "user_tz": -360
    },
    "id": "1tMbYSoBSaVH",
    "outputId": "1102937f-dd4f-4feb-c3f3-4749e051df19"
   },
   "outputs": [
    {
     "name": "stdout",
     "output_type": "stream",
     "text": [
      "Help on function name_func in module __main__:\n",
      "\n",
      "name_func()\n",
      "    DOCSTRING: Information about the function\n",
      "    INPUT: No Input\n",
      "    OUTPUT: Hello\n",
      "\n"
     ]
    }
   ],
   "source": [
    "help(name_func)"
   ]
  },
  {
   "cell_type": "code",
   "execution_count": 0,
   "metadata": {
    "colab": {
     "base_uri": "https://localhost:8080/",
     "height": 34
    },
    "colab_type": "code",
    "executionInfo": {
     "elapsed": 1736,
     "status": "ok",
     "timestamp": 1590334150104,
     "user": {
      "displayName": "Swati Kar",
      "photoUrl": "https://lh3.googleusercontent.com/a-/AOh14GipCjJ_Toz36oaKm2fXTpDzjwm9bTCh4YjPeFLQ=s64",
      "userId": "09310606185569209733"
     },
     "user_tz": -360
    },
    "id": "y0qAz0k-StMn",
    "outputId": "6128a821-3b97-4637-fa40-53ae41b649e9"
   },
   "outputs": [
    {
     "name": "stdout",
     "output_type": "stream",
     "text": [
      "hello asdd\n"
     ]
    }
   ],
   "source": [
    "def say_hello(name='Name'):\n",
    "  print(\"hello \"+name)\n",
    "say_hello('asdd')"
   ]
  },
  {
   "cell_type": "code",
   "execution_count": 0,
   "metadata": {
    "colab": {
     "base_uri": "https://localhost:8080/",
     "height": 34
    },
    "colab_type": "code",
    "executionInfo": {
     "elapsed": 1598,
     "status": "ok",
     "timestamp": 1590334494730,
     "user": {
      "displayName": "Swati Kar",
      "photoUrl": "https://lh3.googleusercontent.com/a-/AOh14GipCjJ_Toz36oaKm2fXTpDzjwm9bTCh4YjPeFLQ=s64",
      "userId": "09310606185569209733"
     },
     "user_tz": -360
    },
    "id": "CvBmWRyJTZo7",
    "outputId": "4757bcda-691a-4324-c1ff-da7758ddfad5"
   },
   "outputs": [
    {
     "data": {
      "text/plain": [
       "'hello asdd'"
      ]
     },
     "execution_count": 14,
     "metadata": {
      "tags": []
     },
     "output_type": "execute_result"
    }
   ],
   "source": [
    "def say_hello(name='Name'):\n",
    "  name1 = \"hello \"+name\n",
    "  return name1\n",
    "say_hello('asdd')"
   ]
  },
  {
   "cell_type": "code",
   "execution_count": 0,
   "metadata": {
    "colab": {
     "base_uri": "https://localhost:8080/",
     "height": 34
    },
    "colab_type": "code",
    "executionInfo": {
     "elapsed": 1621,
     "status": "ok",
     "timestamp": 1590334513263,
     "user": {
      "displayName": "Swati Kar",
      "photoUrl": "https://lh3.googleusercontent.com/a-/AOh14GipCjJ_Toz36oaKm2fXTpDzjwm9bTCh4YjPeFLQ=s64",
      "userId": "09310606185569209733"
     },
     "user_tz": -360
    },
    "id": "d1nOEpmhT7qI",
    "outputId": "61caa136-5652-4b07-c122-06fbb103e0d3"
   },
   "outputs": [
    {
     "data": {
      "text/plain": [
       "'hello asww'"
      ]
     },
     "execution_count": 15,
     "metadata": {
      "tags": []
     },
     "output_type": "execute_result"
    }
   ],
   "source": [
    "result = say_hello('asww')\n",
    "result"
   ]
  },
  {
   "cell_type": "code",
   "execution_count": 0,
   "metadata": {
    "colab": {
     "base_uri": "https://localhost:8080/",
     "height": 34
    },
    "colab_type": "code",
    "executionInfo": {
     "elapsed": 2077,
     "status": "ok",
     "timestamp": 1590334359426,
     "user": {
      "displayName": "Swati Kar",
      "photoUrl": "https://lh3.googleusercontent.com/a-/AOh14GipCjJ_Toz36oaKm2fXTpDzjwm9bTCh4YjPeFLQ=s64",
      "userId": "09310606185569209733"
     },
     "user_tz": -360
    },
    "id": "_RPHTiUTUFEL",
    "outputId": "2f4db817-4163-4ac2-fbd1-1742c2b859ad"
   },
   "outputs": [
    {
     "data": {
      "text/plain": [
       "str"
      ]
     },
     "execution_count": 13,
     "metadata": {
      "tags": []
     },
     "output_type": "execute_result"
    }
   ],
   "source": [
    "type(result)"
   ]
  },
  {
   "cell_type": "code",
   "execution_count": 0,
   "metadata": {
    "colab": {
     "base_uri": "https://localhost:8080/",
     "height": 87
    },
    "colab_type": "code",
    "executionInfo": {
     "elapsed": 1564,
     "status": "ok",
     "timestamp": 1590335116280,
     "user": {
      "displayName": "Swati Kar",
      "photoUrl": "https://lh3.googleusercontent.com/a-/AOh14GipCjJ_Toz36oaKm2fXTpDzjwm9bTCh4YjPeFLQ=s64",
      "userId": "09310606185569209733"
     },
     "user_tz": -360
    },
    "id": "7KjqVVNNVQpq",
    "outputId": "cd58fbfa-afe8-4be5-ecdc-1e967a2c51d6"
   },
   "outputs": [
    {
     "name": "stdout",
     "output_type": "stream",
     "text": [
      "not matched\n",
      "not matched\n",
      "not matched\n"
     ]
    },
    {
     "data": {
      "text/plain": [
       "'a'"
      ]
     },
     "execution_count": 17,
     "metadata": {
      "tags": []
     },
     "output_type": "execute_result"
    }
   ],
   "source": [
    "#find out if the word 'dog' is in the string?\n",
    "#method 1\n",
    "def find_dog(str1):\n",
    "  x = str1.split()\n",
    "  for word in x:\n",
    "    if word=='dog':\n",
    "      print('matched')\n",
    "    else:\n",
    "      print('not matched')\n",
    "  return word\n",
    "find_dog('i have a ')"
   ]
  },
  {
   "cell_type": "code",
   "execution_count": 0,
   "metadata": {
    "colab": {
     "base_uri": "https://localhost:8080/",
     "height": 34
    },
    "colab_type": "code",
    "executionInfo": {
     "elapsed": 1508,
     "status": "ok",
     "timestamp": 1590335466904,
     "user": {
      "displayName": "Swati Kar",
      "photoUrl": "https://lh3.googleusercontent.com/a-/AOh14GipCjJ_Toz36oaKm2fXTpDzjwm9bTCh4YjPeFLQ=s64",
      "userId": "09310606185569209733"
     },
     "user_tz": -360
    },
    "id": "1DDsmfp0XtGZ",
    "outputId": "c1fb871f-7901-4b94-89dc-32ac1b9abf21"
   },
   "outputs": [
    {
     "data": {
      "text/plain": [
       "''"
      ]
     },
     "execution_count": 20,
     "metadata": {
      "tags": []
     },
     "output_type": "execute_result"
    }
   ],
   "source": [
    "#method 2\n",
    "def find_dog(str1):\n",
    "  x = str1.split()\n",
    "  for word in x:\n",
    "    temp = word\n",
    "    if(temp=='dog'):\n",
    "      break\n",
    "    else:\n",
    "      temp = \"\"\n",
    "      continue\n",
    "  return temp\n",
    "find_dog('i have a ')"
   ]
  },
  {
   "cell_type": "code",
   "execution_count": 0,
   "metadata": {
    "colab": {
     "base_uri": "https://localhost:8080/",
     "height": 34
    },
    "colab_type": "code",
    "executionInfo": {
     "elapsed": 1598,
     "status": "ok",
     "timestamp": 1590335905132,
     "user": {
      "displayName": "Swati Kar",
      "photoUrl": "https://lh3.googleusercontent.com/a-/AOh14GipCjJ_Toz36oaKm2fXTpDzjwm9bTCh4YjPeFLQ=s64",
      "userId": "09310606185569209733"
     },
     "user_tz": -360
    },
    "id": "ePNwBVPQY1eD",
    "outputId": "75d37f5a-3d55-43b3-d2f8-48baa6abe6d4"
   },
   "outputs": [
    {
     "data": {
      "text/plain": [
       "True"
      ]
     },
     "execution_count": 23,
     "metadata": {
      "tags": []
     },
     "output_type": "execute_result"
    }
   ],
   "source": [
    "#method 3\n",
    "def dog_check(str1):\n",
    "  if 'dog' in str1.lower():\n",
    "    return True\n",
    "  else:\n",
    "    return False\n",
    "\n",
    "dog_check('Dog ran away')"
   ]
  },
  {
   "cell_type": "code",
   "execution_count": 0,
   "metadata": {
    "colab": {
     "base_uri": "https://localhost:8080/",
     "height": 34
    },
    "colab_type": "code",
    "executionInfo": {
     "elapsed": 1539,
     "status": "ok",
     "timestamp": 1590336071246,
     "user": {
      "displayName": "Swati Kar",
      "photoUrl": "https://lh3.googleusercontent.com/a-/AOh14GipCjJ_Toz36oaKm2fXTpDzjwm9bTCh4YjPeFLQ=s64",
      "userId": "09310606185569209733"
     },
     "user_tz": -360
    },
    "id": "UtkWPHhXaXpD",
    "outputId": "c927c729-3b4d-402c-d555-017d92dbf2e4"
   },
   "outputs": [
    {
     "data": {
      "text/plain": [
       "True"
      ]
     },
     "execution_count": 24,
     "metadata": {
      "tags": []
     },
     "output_type": "execute_result"
    }
   ],
   "source": [
    "#method 4\n",
    "def dog_check(str1):\n",
    "  return 'dog' in str1.lower()\n",
    "\n",
    "dog_check('dog ran away')"
   ]
  },
  {
   "cell_type": "code",
   "execution_count": 0,
   "metadata": {
    "colab": {
     "base_uri": "https://localhost:8080/",
     "height": 34
    },
    "colab_type": "code",
    "executionInfo": {
     "elapsed": 1515,
     "status": "ok",
     "timestamp": 1590337185675,
     "user": {
      "displayName": "Swati Kar",
      "photoUrl": "https://lh3.googleusercontent.com/a-/AOh14GipCjJ_Toz36oaKm2fXTpDzjwm9bTCh4YjPeFLQ=s64",
      "userId": "09310606185569209733"
     },
     "user_tz": -360
    },
    "id": "gkfjDKdbbC0w",
    "outputId": "aa18cd4d-6ebd-4b13-c1bd-e54e97765f0f"
   },
   "outputs": [
    {
     "data": {
      "text/plain": [
       "'eyeay'"
      ]
     },
     "execution_count": 30,
     "metadata": {
      "tags": []
     },
     "output_type": "execute_result"
    }
   ],
   "source": [
    "#word starts with vowel,add 'ay' to end\n",
    "#word doesn't start with vowel, put 1t letter at the end ,then add 'ay'\n",
    "#method 1\n",
    "def vowel_check(word):\n",
    "  if word.lower()[0] =='a':\n",
    "    temp = word+'ay'\n",
    "    return temp\n",
    "  if word.lower()[0] =='e':\n",
    "    temp = word+'ay'\n",
    "    return temp\n",
    "  if word.lower()[0] =='i':\n",
    "    temp = word+'ay'\n",
    "    return temp\n",
    "  else:\n",
    "    temp_char = word[0]\n",
    "    # print(temp_char)\n",
    "    temp = word + temp_char+'ay'\n",
    "  return temp[1:]\n",
    "vowel_check(\"eye\")"
   ]
  },
  {
   "cell_type": "code",
   "execution_count": 0,
   "metadata": {
    "colab": {
     "base_uri": "https://localhost:8080/",
     "height": 34
    },
    "colab_type": "code",
    "executionInfo": {
     "elapsed": 1434,
     "status": "ok",
     "timestamp": 1590337604575,
     "user": {
      "displayName": "Swati Kar",
      "photoUrl": "https://lh3.googleusercontent.com/a-/AOh14GipCjJ_Toz36oaKm2fXTpDzjwm9bTCh4YjPeFLQ=s64",
      "userId": "09310606185569209733"
     },
     "user_tz": -360
    },
    "id": "sXVILjBnf1ly",
    "outputId": "ade13bbf-df12-4074-c00a-345efbe1e1f0"
   },
   "outputs": [
    {
     "data": {
      "text/plain": [
       "'orldway'"
      ]
     },
     "execution_count": 32,
     "metadata": {
      "tags": []
     },
     "output_type": "execute_result"
    }
   ],
   "source": [
    "#method 2\n",
    "def vowel_check(word):\n",
    "  first_letter = word[0]\n",
    "\n",
    "  if first_letter in 'aeiou':\n",
    "    word1 = word+'ay'\n",
    "  else:\n",
    "    word1 = word[1:]+first_letter+'ay'\n",
    "  return word1\n",
    "\n",
    "vowel_check('world')"
   ]
  },
  {
   "cell_type": "markdown",
   "metadata": {
    "colab_type": "text",
    "id": "pFX4FpssCRdt"
   },
   "source": [
    "###*args\n",
    "###**kwargs"
   ]
  },
  {
   "cell_type": "code",
   "execution_count": 3,
   "metadata": {
    "colab": {
     "base_uri": "https://localhost:8080/",
     "height": 34
    },
    "colab_type": "code",
    "executionInfo": {
     "elapsed": 1093,
     "status": "ok",
     "timestamp": 1590413865711,
     "user": {
      "displayName": "Swati Kar",
      "photoUrl": "https://lh3.googleusercontent.com/a-/AOh14GipCjJ_Toz36oaKm2fXTpDzjwm9bTCh4YjPeFLQ=s64",
      "userId": "09310606185569209733"
     },
     "user_tz": -360
    },
    "id": "cjs6JKivCNrT",
    "outputId": "11faa5b5-9c48-40bc-a929-cde935cbee59"
   },
   "outputs": [
    {
     "data": {
      "text/plain": [
       "4.5"
      ]
     },
     "execution_count": 3,
     "metadata": {
      "tags": []
     },
     "output_type": "execute_result"
    }
   ],
   "source": [
    "def my_func(a,b):\n",
    "  #returns 5% of the sum of a and b\n",
    "  return sum((a,b))*0.05\n",
    "\n",
    "my_func(40,50)"
   ]
  },
  {
   "cell_type": "code",
   "execution_count": 7,
   "metadata": {
    "colab": {
     "base_uri": "https://localhost:8080/",
     "height": 51
    },
    "colab_type": "code",
    "executionInfo": {
     "elapsed": 1038,
     "status": "ok",
     "timestamp": 1590414226586,
     "user": {
      "displayName": "Swati Kar",
      "photoUrl": "https://lh3.googleusercontent.com/a-/AOh14GipCjJ_Toz36oaKm2fXTpDzjwm9bTCh4YjPeFLQ=s64",
      "userId": "09310606185569209733"
     },
     "user_tz": -360
    },
    "id": "Cl1a9T2jEGXT",
    "outputId": "44ffea51-f0ff-4fc5-d0c0-cc37943939b3"
   },
   "outputs": [
    {
     "name": "stdout",
     "output_type": "stream",
     "text": [
      "(30, 40, 50, 60)\n"
     ]
    },
    {
     "data": {
      "text/plain": [
       "9.0"
      ]
     },
     "execution_count": 7,
     "metadata": {
      "tags": []
     },
     "output_type": "execute_result"
    }
   ],
   "source": [
    "#*args allow indefinite number of parameters\n",
    "#*args is arbitrary number of arguments,it is tuple\n",
    "def my_func(*args):\n",
    "  print(args)\n",
    "  return sum(args)*0.05\n",
    "my_func(30,40,50,60)"
   ]
  },
  {
   "cell_type": "code",
   "execution_count": 0,
   "metadata": {
    "colab": {},
    "colab_type": "code",
    "id": "7PEFQYi3FYz7"
   },
   "outputs": [],
   "source": [
    "#**kwargs(key arguments) will take key and value of dictionary\n",
    "def func(**kwargs):\n",
    "  print(kwargs)\n",
    "  if 'fruit' in kwargs:\n",
    "    print('my fruit choice is {}'.format(kwargs['fruit']))\n",
    "  else:\n",
    "    print('i did not find any fruit')"
   ]
  },
  {
   "cell_type": "code",
   "execution_count": 12,
   "metadata": {
    "colab": {
     "base_uri": "https://localhost:8080/",
     "height": 51
    },
    "colab_type": "code",
    "executionInfo": {
     "elapsed": 1305,
     "status": "ok",
     "timestamp": 1590414759852,
     "user": {
      "displayName": "Swati Kar",
      "photoUrl": "https://lh3.googleusercontent.com/a-/AOh14GipCjJ_Toz36oaKm2fXTpDzjwm9bTCh4YjPeFLQ=s64",
      "userId": "09310606185569209733"
     },
     "user_tz": -360
    },
    "id": "QRN62o7UGQ24",
    "outputId": "5993ce0c-e0bd-4621-90bc-22f3d40f5182"
   },
   "outputs": [
    {
     "name": "stdout",
     "output_type": "stream",
     "text": [
      "{'fruit': 'apple', 'veggi': 'tomato'}\n",
      "my fruit choice is apple\n"
     ]
    }
   ],
   "source": [
    "func(fruit='apple',veggi='tomato')"
   ]
  },
  {
   "cell_type": "code",
   "execution_count": 0,
   "metadata": {
    "colab": {},
    "colab_type": "code",
    "id": "5o_1NLBpHCgj"
   },
   "outputs": [],
   "source": [
    "def myfunc(*args,**kwargs):\n",
    "  print(args,kwargs)\n",
    "  # print(kwargs)\n",
    "  print('i would like {} {}'.format(args[0],kwargs['food']))"
   ]
  },
  {
   "cell_type": "code",
   "execution_count": 16,
   "metadata": {
    "colab": {
     "base_uri": "https://localhost:8080/",
     "height": 51
    },
    "colab_type": "code",
    "executionInfo": {
     "elapsed": 1087,
     "status": "ok",
     "timestamp": 1590415111909,
     "user": {
      "displayName": "Swati Kar",
      "photoUrl": "https://lh3.googleusercontent.com/a-/AOh14GipCjJ_Toz36oaKm2fXTpDzjwm9bTCh4YjPeFLQ=s64",
      "userId": "09310606185569209733"
     },
     "user_tz": -360
    },
    "id": "ks_FwzvoH0oZ",
    "outputId": "a5ac6de3-1b86-473b-9d12-58e7da80bad5"
   },
   "outputs": [
    {
     "name": "stdout",
     "output_type": "stream",
     "text": [
      "(10, 20, 40, 50) {'fruit': 'orange', 'food': 'eggs', 'animal': 'dog'}\n",
      "i would like 10 eggs\n"
     ]
    }
   ],
   "source": [
    "myfunc(10,20,40,50,fruit='orange',food='eggs',animal='dog')"
   ]
  },
  {
   "cell_type": "code",
   "execution_count": 0,
   "metadata": {
    "colab": {},
    "colab_type": "code",
    "id": "v1y-jvXoJzW_"
   },
   "outputs": [],
   "source": []
  },
  {
   "cell_type": "code",
   "execution_count": 0,
   "metadata": {
    "colab": {},
    "colab_type": "code",
    "id": "R-3fFN_NJz4Q"
   },
   "outputs": [],
   "source": []
  },
  {
   "cell_type": "code",
   "execution_count": 0,
   "metadata": {
    "colab": {},
    "colab_type": "code",
    "id": "FdDtxjuBJ0NR"
   },
   "outputs": [],
   "source": []
  }
 ],
 "metadata": {
  "colab": {
   "authorship_tag": "ABX9TyPGOygERygf+jC7jcoxHI5o",
   "name": "Function.ipynb",
   "provenance": []
  },
  "kernelspec": {
   "display_name": "Python 3",
   "language": "python",
   "name": "python3"
  },
  "language_info": {
   "codemirror_mode": {
    "name": "ipython",
    "version": 3
   },
   "file_extension": ".py",
   "mimetype": "text/x-python",
   "name": "python",
   "nbconvert_exporter": "python",
   "pygments_lexer": "ipython3",
   "version": "3.7.6"
  }
 },
 "nbformat": 4,
 "nbformat_minor": 1
}
