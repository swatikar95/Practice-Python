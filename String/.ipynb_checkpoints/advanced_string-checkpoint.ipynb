{
 "cells": [
  {
   "cell_type": "code",
   "execution_count": 0,
   "metadata": {
    "colab": {},
    "colab_type": "code",
    "id": "1kpbAg4yZXXR"
   },
   "outputs": [],
   "source": [
    "s = 'hello world'"
   ]
  },
  {
   "cell_type": "code",
   "execution_count": 3,
   "metadata": {
    "colab": {
     "base_uri": "https://localhost:8080/",
     "height": 34
    },
    "colab_type": "code",
    "executionInfo": {
     "elapsed": 935,
     "status": "ok",
     "timestamp": 1591543763999,
     "user": {
      "displayName": "Swati Kar",
      "photoUrl": "https://lh3.googleusercontent.com/a-/AOh14GipCjJ_Toz36oaKm2fXTpDzjwm9bTCh4YjPeFLQ=s64",
      "userId": "09310606185569209733"
     },
     "user_tz": -360
    },
    "id": "X1svHQbMZl-2",
    "outputId": "11bdfc2e-5ff6-4121-ee27-230ad1cdb6a4"
   },
   "outputs": [
    {
     "data": {
      "text/plain": [
       "2"
      ]
     },
     "execution_count": 3,
     "metadata": {
      "tags": []
     },
     "output_type": "execute_result"
    }
   ],
   "source": [
    "s.count('o')"
   ]
  },
  {
   "cell_type": "code",
   "execution_count": 4,
   "metadata": {
    "colab": {
     "base_uri": "https://localhost:8080/",
     "height": 34
    },
    "colab_type": "code",
    "executionInfo": {
     "elapsed": 1271,
     "status": "ok",
     "timestamp": 1591543796764,
     "user": {
      "displayName": "Swati Kar",
      "photoUrl": "https://lh3.googleusercontent.com/a-/AOh14GipCjJ_Toz36oaKm2fXTpDzjwm9bTCh4YjPeFLQ=s64",
      "userId": "09310606185569209733"
     },
     "user_tz": -360
    },
    "id": "B82f1cdoZt0P",
    "outputId": "8260ce30-e1b0-4317-f745-f31961aaa998"
   },
   "outputs": [
    {
     "data": {
      "text/plain": [
       "4"
      ]
     },
     "execution_count": 4,
     "metadata": {
      "tags": []
     },
     "output_type": "execute_result"
    }
   ],
   "source": [
    "#returns index number of first 'o'\n",
    "s.find('o')"
   ]
  },
  {
   "cell_type": "code",
   "execution_count": 5,
   "metadata": {
    "colab": {
     "base_uri": "https://localhost:8080/",
     "height": 34
    },
    "colab_type": "code",
    "executionInfo": {
     "elapsed": 1731,
     "status": "ok",
     "timestamp": 1591543992606,
     "user": {
      "displayName": "Swati Kar",
      "photoUrl": "https://lh3.googleusercontent.com/a-/AOh14GipCjJ_Toz36oaKm2fXTpDzjwm9bTCh4YjPeFLQ=s64",
      "userId": "09310606185569209733"
     },
     "user_tz": -360
    },
    "id": "BgBeeGDDZ2Vj",
    "outputId": "0f8bb1f0-f5c1-4568-9ef1-cc0c6d6827e7"
   },
   "outputs": [
    {
     "data": {
      "text/plain": [
       "'zzzzhello worldzzzzz'"
      ]
     },
     "execution_count": 5,
     "metadata": {
      "tags": []
     },
     "output_type": "execute_result"
    }
   ],
   "source": [
    "#string length will be 20\n",
    "s.center(20,'z')"
   ]
  },
  {
   "cell_type": "code",
   "execution_count": 6,
   "metadata": {
    "colab": {
     "base_uri": "https://localhost:8080/",
     "height": 34
    },
    "colab_type": "code",
    "executionInfo": {
     "elapsed": 959,
     "status": "ok",
     "timestamp": 1591544150195,
     "user": {
      "displayName": "Swati Kar",
      "photoUrl": "https://lh3.googleusercontent.com/a-/AOh14GipCjJ_Toz36oaKm2fXTpDzjwm9bTCh4YjPeFLQ=s64",
      "userId": "09310606185569209733"
     },
     "user_tz": -360
    },
    "id": "bgmMpduTas0m",
    "outputId": "8ee44661-f5c3-4d11-dc24-b39176bbb478"
   },
   "outputs": [
    {
     "data": {
      "text/plain": [
       "False"
      ]
     },
     "execution_count": 6,
     "metadata": {
      "tags": []
     },
     "output_type": "execute_result"
    }
   ],
   "source": [
    "#is alphanumeric(letter and digit) or not\n",
    "s.isalnum()"
   ]
  },
  {
   "cell_type": "code",
   "execution_count": 7,
   "metadata": {
    "colab": {
     "base_uri": "https://localhost:8080/",
     "height": 34
    },
    "colab_type": "code",
    "executionInfo": {
     "elapsed": 943,
     "status": "ok",
     "timestamp": 1591544176974,
     "user": {
      "displayName": "Swati Kar",
      "photoUrl": "https://lh3.googleusercontent.com/a-/AOh14GipCjJ_Toz36oaKm2fXTpDzjwm9bTCh4YjPeFLQ=s64",
      "userId": "09310606185569209733"
     },
     "user_tz": -360
    },
    "id": "hSx0dLrTbJuI",
    "outputId": "06b20e20-182d-4739-952b-a66cd21b5cef"
   },
   "outputs": [
    {
     "data": {
      "text/plain": [
       "True"
      ]
     },
     "execution_count": 7,
     "metadata": {
      "tags": []
     },
     "output_type": "execute_result"
    }
   ],
   "source": [
    "s = 'hello'\n",
    "s.isalnum()"
   ]
  },
  {
   "cell_type": "code",
   "execution_count": 8,
   "metadata": {
    "colab": {
     "base_uri": "https://localhost:8080/",
     "height": 34
    },
    "colab_type": "code",
    "executionInfo": {
     "elapsed": 1322,
     "status": "ok",
     "timestamp": 1591544223750,
     "user": {
      "displayName": "Swati Kar",
      "photoUrl": "https://lh3.googleusercontent.com/a-/AOh14GipCjJ_Toz36oaKm2fXTpDzjwm9bTCh4YjPeFLQ=s64",
      "userId": "09310606185569209733"
     },
     "user_tz": -360
    },
    "id": "zBgcRzH5bXs9",
    "outputId": "fd51bd41-b725-48e7-9965-de9134bd729f"
   },
   "outputs": [
    {
     "data": {
      "text/plain": [
       "True"
      ]
     },
     "execution_count": 8,
     "metadata": {
      "tags": []
     },
     "output_type": "execute_result"
    }
   ],
   "source": [
    "s.islower()"
   ]
  },
  {
   "cell_type": "code",
   "execution_count": 9,
   "metadata": {
    "colab": {
     "base_uri": "https://localhost:8080/",
     "height": 34
    },
    "colab_type": "code",
    "executionInfo": {
     "elapsed": 994,
     "status": "ok",
     "timestamp": 1591544241722,
     "user": {
      "displayName": "Swati Kar",
      "photoUrl": "https://lh3.googleusercontent.com/a-/AOh14GipCjJ_Toz36oaKm2fXTpDzjwm9bTCh4YjPeFLQ=s64",
      "userId": "09310606185569209733"
     },
     "user_tz": -360
    },
    "id": "hyw62HCYbbMz",
    "outputId": "7b365df8-433e-4df3-d939-aa694c129cbb"
   },
   "outputs": [
    {
     "data": {
      "text/plain": [
       "False"
      ]
     },
     "execution_count": 9,
     "metadata": {
      "tags": []
     },
     "output_type": "execute_result"
    }
   ],
   "source": [
    "s.isspace()"
   ]
  },
  {
   "cell_type": "code",
   "execution_count": 10,
   "metadata": {
    "colab": {
     "base_uri": "https://localhost:8080/",
     "height": 34
    },
    "colab_type": "code",
    "executionInfo": {
     "elapsed": 938,
     "status": "ok",
     "timestamp": 1591544264938,
     "user": {
      "displayName": "Swati Kar",
      "photoUrl": "https://lh3.googleusercontent.com/a-/AOh14GipCjJ_Toz36oaKm2fXTpDzjwm9bTCh4YjPeFLQ=s64",
      "userId": "09310606185569209733"
     },
     "user_tz": -360
    },
    "id": "VBVy8Bm6bfH6",
    "outputId": "308a169c-fc59-4a4f-9ba8-86ff785afb85"
   },
   "outputs": [
    {
     "data": {
      "text/plain": [
       "False"
      ]
     },
     "execution_count": 10,
     "metadata": {
      "tags": []
     },
     "output_type": "execute_result"
    }
   ],
   "source": [
    "s.istitle()"
   ]
  },
  {
   "cell_type": "code",
   "execution_count": 11,
   "metadata": {
    "colab": {
     "base_uri": "https://localhost:8080/",
     "height": 34
    },
    "colab_type": "code",
    "executionInfo": {
     "elapsed": 1334,
     "status": "ok",
     "timestamp": 1591544331339,
     "user": {
      "displayName": "Swati Kar",
      "photoUrl": "https://lh3.googleusercontent.com/a-/AOh14GipCjJ_Toz36oaKm2fXTpDzjwm9bTCh4YjPeFLQ=s64",
      "userId": "09310606185569209733"
     },
     "user_tz": -360
    },
    "id": "pF55aZ_vblQp",
    "outputId": "d4e3b7a8-04d1-4131-e31d-95b3fc7c934e"
   },
   "outputs": [
    {
     "data": {
      "text/plain": [
       "True"
      ]
     },
     "execution_count": 11,
     "metadata": {
      "tags": []
     },
     "output_type": "execute_result"
    }
   ],
   "source": [
    "'HELLO'.isupper()"
   ]
  },
  {
   "cell_type": "code",
   "execution_count": 13,
   "metadata": {
    "colab": {
     "base_uri": "https://localhost:8080/",
     "height": 34
    },
    "colab_type": "code",
    "executionInfo": {
     "elapsed": 970,
     "status": "ok",
     "timestamp": 1591544482168,
     "user": {
      "displayName": "Swati Kar",
      "photoUrl": "https://lh3.googleusercontent.com/a-/AOh14GipCjJ_Toz36oaKm2fXTpDzjwm9bTCh4YjPeFLQ=s64",
      "userId": "09310606185569209733"
     },
     "user_tz": -360
    },
    "id": "Ftj0q9nycSUT",
    "outputId": "b929ab0c-1d42-4723-d7fc-f9b1c7a3316f"
   },
   "outputs": [
    {
     "data": {
      "text/plain": [
       "['th', 's ', 's a str', 'ng']"
      ]
     },
     "execution_count": 13,
     "metadata": {
      "tags": []
     },
     "output_type": "execute_result"
    }
   ],
   "source": [
    "s='this is a string'\n",
    "s.split('i')"
   ]
  },
  {
   "cell_type": "code",
   "execution_count": 14,
   "metadata": {
    "colab": {
     "base_uri": "https://localhost:8080/",
     "height": 34
    },
    "colab_type": "code",
    "executionInfo": {
     "elapsed": 1133,
     "status": "ok",
     "timestamp": 1591544493948,
     "user": {
      "displayName": "Swati Kar",
      "photoUrl": "https://lh3.googleusercontent.com/a-/AOh14GipCjJ_Toz36oaKm2fXTpDzjwm9bTCh4YjPeFLQ=s64",
      "userId": "09310606185569209733"
     },
     "user_tz": -360
    },
    "id": "Y6mpWhZecZO7",
    "outputId": "93ef6e72-ad2c-4392-f644-c73436052079"
   },
   "outputs": [
    {
     "data": {
      "text/plain": [
       "('th', 'i', 's is a string')"
      ]
     },
     "execution_count": 14,
     "metadata": {
      "tags": []
     },
     "output_type": "execute_result"
    }
   ],
   "source": [
    "s.partition('i')"
   ]
  }
 ],
 "metadata": {
  "colab": {
   "authorship_tag": "ABX9TyPD0hMtFrnIlF29spsI/l6+",
   "name": "advanced_string.ipynb",
   "provenance": []
  },
  "kernelspec": {
   "display_name": "Python 3",
   "language": "python",
   "name": "python3"
  },
  "language_info": {
   "codemirror_mode": {
    "name": "ipython",
    "version": 3
   },
   "file_extension": ".py",
   "mimetype": "text/x-python",
   "name": "python",
   "nbconvert_exporter": "python",
   "pygments_lexer": "ipython3",
   "version": "3.7.6"
  }
 },
 "nbformat": 4,
 "nbformat_minor": 1
}
